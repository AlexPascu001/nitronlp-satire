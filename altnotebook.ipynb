{
 "cells": [
  {
   "cell_type": "code",
   "execution_count": 59,
   "id": "initial_id",
   "metadata": {
    "collapsed": true,
    "ExecuteTime": {
     "end_time": "2024-03-31T04:54:42.725575Z",
     "start_time": "2024-03-31T04:54:42.722364Z"
    }
   },
   "outputs": [
    {
     "name": "stderr",
     "output_type": "stream",
     "text": [
      "[nltk_data] Downloading package words to\n",
      "[nltk_data]     C:\\Users\\Alex\\AppData\\Roaming\\nltk_data...\n",
      "[nltk_data]   Package words is already up-to-date!\n"
     ]
    }
   ],
   "source": [
    "import nltk\n",
    "import pandas as pd\n",
    "import matplotlib.pyplot as plt\n",
    "import re\n",
    "import spacy\n",
    "from transformers import pipeline\n",
    "import seaborn as sns\n",
    "import numpy as np\n",
    "from transformers import AutoTokenizer, AutoModel\n",
    "import torch\n",
    "from torch import cuda\n",
    "import torch.nn as nn\n",
    "from torch.utils.data import Dataset, DataLoader, RandomSampler, SequentialSampler\n",
    "from torch.nn import BCEWithLogitsLoss\n",
    "import nltk\n",
    "from transformers import Trainer\n",
    "nltk.download('words')\n",
    "from nltk.corpus import words\n",
    "from sklearn.model_selection import train_test_split\n",
    "from transformers import TrainingArguments\n",
    "from collections import Counter\n",
    "import torch.optim as optim\n",
    "from torch.optim import lr_scheduler\n",
    "import os\n",
    "from nltk.stem.snowball import SnowballStemmer\n",
    "import spacy\n",
    "from tqdm import tqdm\n"
   ]
  },
  {
   "cell_type": "code",
   "execution_count": 16,
   "outputs": [],
   "source": [
    "device = torch.device(\"cuda\" if torch.cuda.is_available() else \"cpu\")"
   ],
   "metadata": {
    "collapsed": false,
    "ExecuteTime": {
     "end_time": "2024-03-31T04:28:35.094076Z",
     "start_time": "2024-03-31T04:28:35.091588Z"
    }
   },
   "id": "cd59014e0c4eac99"
  },
  {
   "cell_type": "code",
   "execution_count": 3,
   "outputs": [],
   "source": [
    "df_train = pd.read_csv('training_preprocesat.csv')"
   ],
   "metadata": {
    "collapsed": false,
    "ExecuteTime": {
     "end_time": "2024-03-30T21:09:25.805151100Z",
     "start_time": "2024-03-30T21:09:24.231030700Z"
    }
   },
   "id": "d1c5ef4b13862d9d"
  },
  {
   "cell_type": "code",
   "execution_count": 4,
   "outputs": [
    {
     "data": {
      "text/plain": "70575"
     },
     "execution_count": 4,
     "metadata": {},
     "output_type": "execute_result"
    }
   ],
   "source": [
    "len(df_train)"
   ],
   "metadata": {
    "collapsed": false,
    "ExecuteTime": {
     "end_time": "2024-03-30T21:09:25.819754100Z",
     "start_time": "2024-03-30T21:09:25.806151700Z"
    }
   },
   "id": "b39568f84949f19"
  },
  {
   "cell_type": "code",
   "execution_count": 5,
   "outputs": [
    {
     "data": {
      "text/plain": "Embedding(50005, 768)"
     },
     "execution_count": 5,
     "metadata": {},
     "output_type": "execute_result"
    }
   ],
   "source": [
    "tokenizer = AutoTokenizer.from_pretrained(\"dumitrescustefan/bert-base-romanian-cased-v1\")\n",
    "added_toks = tokenizer.add_special_tokens({'additional_special_tokens': ['[STAR]', '[HTAG]', '[REP]', '[PROF]', '[EMOJI]']})\n",
    "\n",
    "robert = AutoModel.from_pretrained(\"dumitrescustefan/bert-base-romanian-cased-v1\")\n",
    "robert.resize_token_embeddings(len(tokenizer))"
   ],
   "metadata": {
    "collapsed": false,
    "ExecuteTime": {
     "end_time": "2024-03-30T21:09:42.432665800Z",
     "start_time": "2024-03-30T21:09:40.233263300Z"
    }
   },
   "id": "97b337e04f2f9d50"
  },
  {
   "cell_type": "code",
   "execution_count": 6,
   "outputs": [],
   "source": [
    "df_shuffled = df_train.sample(frac=0.2, random_state=1000)\n",
    "train_ratio = 0.8\n",
    "train_size = int(train_ratio * len(df_shuffled))\n",
    "df_train = df_shuffled[:train_size]\n",
    "df_val = df_shuffled[train_size:]"
   ],
   "metadata": {
    "collapsed": false,
    "ExecuteTime": {
     "end_time": "2024-03-30T21:09:59.872182600Z",
     "start_time": "2024-03-30T21:09:59.835000400Z"
    }
   },
   "id": "9a9e2cabba3f381"
  },
  {
   "cell_type": "code",
   "execution_count": 130,
   "outputs": [],
   "source": [
    "X_train = []\n",
    "y_train = []\n",
    "aux = list(zip(df_train['title'].tolist(), df_train['class'].tolist()))"
   ],
   "metadata": {
    "collapsed": false,
    "ExecuteTime": {
     "end_time": "2024-03-30T21:31:08.190817600Z",
     "start_time": "2024-03-30T21:31:08.180310400Z"
    }
   },
   "id": "78cbf2452e573df7"
  },
  {
   "cell_type": "code",
   "execution_count": 131,
   "outputs": [
    {
     "name": "stderr",
     "output_type": "stream",
     "text": [
      "100%|██████████| 11292/11292 [06:34<00:00, 28.59it/s]\n"
     ]
    }
   ],
   "source": [
    "for title, label in tqdm(aux):\n",
    "    input_ids = torch.tensor(tokenizer.encode(title, add_special_tokens=True, max_length=32, padding='max_length', truncation=True, return_tensors=\"np\"))\n",
    "    outputs = robert(input_ids)\n",
    "    mean_pooling = torch.mean(outputs[0], dim = 1).squeeze(0).detach()\n",
    "    X_train.append(mean_pooling)\n",
    "    y_train.append(label)"
   ],
   "metadata": {
    "collapsed": false,
    "ExecuteTime": {
     "end_time": "2024-03-30T21:37:48.892269800Z",
     "start_time": "2024-03-30T21:31:13.979284500Z"
    }
   },
   "id": "82c5cccab152dfb2"
  },
  {
   "cell_type": "code",
   "execution_count": 135,
   "outputs": [],
   "source": [
    "X_train = np.array(X_train)\n",
    "y_train = np.array(y_train)"
   ],
   "metadata": {
    "collapsed": false,
    "ExecuteTime": {
     "end_time": "2024-03-30T21:37:53.297992Z",
     "start_time": "2024-03-30T21:37:53.284975Z"
    }
   },
   "id": "f8d991598a3843f6"
  },
  {
   "cell_type": "code",
   "execution_count": 136,
   "outputs": [],
   "source": [
    "X_val = []\n",
    "y_val = []\n",
    "aux = list(zip(df_val['title'].tolist(), df_val['class'].tolist()))"
   ],
   "metadata": {
    "collapsed": false,
    "ExecuteTime": {
     "end_time": "2024-03-30T21:37:54.901110300Z",
     "start_time": "2024-03-30T21:37:54.872538300Z"
    }
   },
   "id": "f59f5fa242e026ff"
  },
  {
   "cell_type": "code",
   "execution_count": 165,
   "outputs": [],
   "source": [
    "np.save('x_train.npy', X_train)\n",
    "np.save('y_train.npy', y_train)\n",
    "np.save('x_val.npy', X_val)\n",
    "np.save('y_val.npy', y_val)"
   ],
   "metadata": {
    "collapsed": false,
    "ExecuteTime": {
     "end_time": "2024-03-30T21:43:54.024517800Z",
     "start_time": "2024-03-30T21:43:53.934813700Z"
    }
   },
   "id": "b9358d44296ee07e"
  },
  {
   "cell_type": "code",
   "execution_count": 137,
   "outputs": [
    {
     "name": "stderr",
     "output_type": "stream",
     "text": [
      "100%|██████████| 2823/2823 [01:31<00:00, 30.78it/s]\n"
     ]
    }
   ],
   "source": [
    "for title, label in tqdm(aux):\n",
    "    input_ids = torch.tensor(tokenizer.encode(title, add_special_tokens=True, max_length=32, padding='max_length', truncation=True, return_tensors=\"np\"))\n",
    "    outputs = robert(input_ids)\n",
    "    mean_pooling = torch.mean(outputs[0], dim = 1).squeeze(0).detach()\n",
    "    X_val.append(mean_pooling)\n",
    "    y_val.append(label)"
   ],
   "metadata": {
    "collapsed": false,
    "ExecuteTime": {
     "end_time": "2024-03-30T21:39:34.474515100Z",
     "start_time": "2024-03-30T21:38:02.751929400Z"
    }
   },
   "id": "48bd253a931a4919"
  },
  {
   "cell_type": "code",
   "execution_count": 138,
   "outputs": [],
   "source": [
    "X_val = np.array(X_val)\n",
    "y_val = np.array(y_val)"
   ],
   "metadata": {
    "collapsed": false,
    "ExecuteTime": {
     "end_time": "2024-03-30T21:39:34.490553800Z",
     "start_time": "2024-03-30T21:39:34.473515200Z"
    }
   },
   "id": "97d828ca99fd951d"
  },
  {
   "cell_type": "code",
   "execution_count": null,
   "outputs": [],
   "source": [],
   "metadata": {
    "collapsed": false
   },
   "id": "16a7c8f2f3ddae14"
  },
  {
   "cell_type": "code",
   "execution_count": null,
   "outputs": [],
   "source": [
    "# AICI INCEPE MODDELUL PENTRU TITLU"
   ],
   "metadata": {
    "collapsed": false
   },
   "id": "fb654c78edeb64cd"
  },
  {
   "cell_type": "code",
   "execution_count": null,
   "outputs": [],
   "source": [],
   "metadata": {
    "collapsed": false
   },
   "id": "fea016328cf5dd37"
  },
  {
   "cell_type": "code",
   "execution_count": null,
   "outputs": [],
   "source": [],
   "metadata": {
    "collapsed": false
   },
   "id": "78074fd37c978fda"
  },
  {
   "cell_type": "code",
   "execution_count": 17,
   "outputs": [],
   "source": [
    "class CustomDataset(Dataset):\n",
    "    def __init__(self, X, y):\n",
    "        self.X = X\n",
    "        self.y = y\n",
    "\n",
    "    def __len__(self):\n",
    "        return len(self.X)\n",
    "\n",
    "    def __getitem__(self, index):\n",
    "        return torch.tensor(self.X[index]), torch.tensor(self.y[index])"
   ],
   "metadata": {
    "collapsed": false,
    "ExecuteTime": {
     "end_time": "2024-03-31T04:28:41.299602Z",
     "start_time": "2024-03-31T04:28:41.296593Z"
    }
   },
   "id": "765dc53f030448fb"
  },
  {
   "cell_type": "code",
   "execution_count": 18,
   "outputs": [],
   "source": [
    "class ClssificationNetwork(nn.Module):\n",
    "    def __init__(self):\n",
    "        super(ClssificationNetwork, self).__init__()\n",
    "        self.linear = nn.Linear(768, 128)\n",
    "        self.classifier = nn.Linear(128, 1)\n",
    "        self.relu = nn.ReLU()\n",
    "        self.sigmoid = nn.Sigmoid()\n",
    "        \n",
    "    def forward(self, x):\n",
    "        x = self.linear(x)\n",
    "        x = self.relu(x)\n",
    "        x = self.classifier(x)\n",
    "        x = self.sigmoid(x)\n",
    "        \n",
    "        return x"
   ],
   "metadata": {
    "collapsed": false,
    "ExecuteTime": {
     "end_time": "2024-03-31T04:28:41.748371Z",
     "start_time": "2024-03-31T04:28:41.745702Z"
    }
   },
   "id": "10b0f93dd6de8214"
  },
  {
   "cell_type": "code",
   "execution_count": 19,
   "outputs": [
    {
     "ename": "NameError",
     "evalue": "name 'X_val' is not defined",
     "output_type": "error",
     "traceback": [
      "\u001B[1;31m---------------------------------------------------------------------------\u001B[0m",
      "\u001B[1;31mNameError\u001B[0m                                 Traceback (most recent call last)",
      "Cell \u001B[1;32mIn[19], line 2\u001B[0m\n\u001B[0;32m      1\u001B[0m train_set \u001B[38;5;241m=\u001B[39m CustomDataset(X_train, y_train)\n\u001B[1;32m----> 2\u001B[0m val_set \u001B[38;5;241m=\u001B[39m CustomDataset(\u001B[43mX_val\u001B[49m, y_val)\n\u001B[0;32m      4\u001B[0m train_loader \u001B[38;5;241m=\u001B[39m DataLoader(train_set, shuffle\u001B[38;5;241m=\u001B[39m\u001B[38;5;28;01mTrue\u001B[39;00m, batch_size\u001B[38;5;241m=\u001B[39m\u001B[38;5;241m16\u001B[39m)\n\u001B[0;32m      5\u001B[0m val_loader \u001B[38;5;241m=\u001B[39m DataLoader(val_set, shuffle\u001B[38;5;241m=\u001B[39m\u001B[38;5;28;01mTrue\u001B[39;00m, batch_size\u001B[38;5;241m=\u001B[39m\u001B[38;5;241m16\u001B[39m)\n",
      "\u001B[1;31mNameError\u001B[0m: name 'X_val' is not defined"
     ]
    }
   ],
   "source": [
    "train_set = CustomDataset(X_train, y_train)\n",
    "val_set = CustomDataset(X_val, y_val)\n",
    "\n",
    "train_loader = DataLoader(train_set, shuffle=True, batch_size=16)\n",
    "val_loader = DataLoader(val_set, shuffle=True, batch_size=16)"
   ],
   "metadata": {
    "collapsed": false,
    "ExecuteTime": {
     "end_time": "2024-03-31T04:28:42.205978Z",
     "start_time": "2024-03-31T04:28:42.195809Z"
    }
   },
   "id": "4160ea3d5723003c"
  },
  {
   "cell_type": "code",
   "execution_count": 25,
   "outputs": [],
   "source": [
    "def get_training_data():\n",
    "    first = pd.read_csv('first.csv')\n",
    "    first_titles = np.load('training_splits/firsttitle.npy')\n",
    "    first_labels = first['class'].tolist()\n",
    "\n",
    "    second = pd.read_csv('second.csv')\n",
    "    second_titles = np.load('training_splits/secondtitle.npy')\n",
    "    second_labels = second['class'].tolist()\n",
    "\n",
    "    third = pd.read_csv('third.csv')\n",
    "    third_titles = np.load('training_splits/thirdtitle.npy')\n",
    "    third_labels = third['class'].tolist()\n",
    "\n",
    "    # fourth = pd.read_csv('fourth.csv')\n",
    "    # fourth_titles = np.load('training_splits/fourthtitle.npy')\n",
    "    # fourth_labels = fourth['class'].tolist()\n",
    "\n",
    "    # all_titles = np.concatenate((first_titles, second_titles, third_titles, fourth_titles), axis=0)\n",
    "    # all_labels = np.concatenate((first_labels, second_labels, third_labels, fourth_labels))\n",
    "\n",
    "    all_titles = np.concatenate((first_titles, second_titles, third_titles), axis=0)\n",
    "    all_labels = np.concatenate((first_labels, second_labels, third_labels))\n",
    "    \n",
    "    return all_titles, all_labels\n",
    "\n",
    "def get_validation_data():\n",
    "    fourth = pd.read_csv('fourth.csv')\n",
    "    fourth_titles = np.load('training_splits/fourthtitle.npy')\n",
    "    fourth_labels = fourth['class'].tolist()\n",
    "    \n",
    "    return fourth_titles, fourth_labels"
   ],
   "metadata": {
    "collapsed": false,
    "ExecuteTime": {
     "end_time": "2024-03-31T04:29:31.413214Z",
     "start_time": "2024-03-31T04:29:31.410214Z"
    }
   },
   "id": "d357fda1b63146ac"
  },
  {
   "cell_type": "code",
   "execution_count": 26,
   "outputs": [],
   "source": [
    "X_train, y_train = get_training_data()\n",
    "X_val, y_val = get_validation_data()"
   ],
   "metadata": {
    "collapsed": false,
    "ExecuteTime": {
     "end_time": "2024-03-31T04:29:33.295570Z",
     "start_time": "2024-03-31T04:29:31.669589Z"
    }
   },
   "id": "4d2331338017b42d"
  },
  {
   "cell_type": "code",
   "execution_count": 27,
   "outputs": [],
   "source": [
    "train_set = CustomDataset(X_train, y_train)\n",
    "train_loader = DataLoader(train_set, shuffle=True, batch_size=16)\n",
    "\n",
    "val_set = CustomDataset(X_val, y_val)\n",
    "val_loader = DataLoader(val_set, shuffle=True, batch_size=16)"
   ],
   "metadata": {
    "collapsed": false,
    "ExecuteTime": {
     "end_time": "2024-03-31T04:29:33.311090Z",
     "start_time": "2024-03-31T04:29:33.295570Z"
    }
   },
   "id": "fd6097f5a0a50558"
  },
  {
   "cell_type": "code",
   "execution_count": 31,
   "outputs": [],
   "source": [
    "model_titles = ClssificationNetwork().to(device)\n",
    "optimizer = optim.Adam(model_titles.parameters(),lr=3e-5)\n",
    "criterion = nn.BCELoss(weight=torch.tensor([len(y_train) / np.sum(y_train)]).to(device))"
   ],
   "metadata": {
    "collapsed": false,
    "ExecuteTime": {
     "end_time": "2024-03-31T04:31:19.364264Z",
     "start_time": "2024-03-31T04:31:19.359743Z"
    }
   },
   "id": "27959d750cb1fb23"
  },
  {
   "cell_type": "code",
   "execution_count": 32,
   "outputs": [],
   "source": [
    "EPOCHS = 10"
   ],
   "metadata": {
    "collapsed": false,
    "ExecuteTime": {
     "end_time": "2024-03-31T04:31:19.594389Z",
     "start_time": "2024-03-31T04:31:19.591372Z"
    }
   },
   "id": "30488759e3e80ea0"
  },
  {
   "cell_type": "code",
   "execution_count": 33,
   "outputs": [
    {
     "name": "stderr",
     "output_type": "stream",
     "text": [
      "  0%|          | 0/3309 [00:00<?, ?it/s]C:\\Users\\Alex\\AppData\\Local\\Temp\\ipykernel_8184\\2081287659.py:10: DeprecationWarning: In future, it will be an error for 'np.bool_' scalars to be interpreted as an index\n",
      "  return torch.tensor(self.X[index]), torch.tensor(self.y[index])\n",
      "100%|██████████| 3309/3309 [00:03<00:00, 1095.38it/s]\n",
      "100%|██████████| 1103/1103 [00:00<00:00, 1833.03it/s]\n"
     ]
    },
    {
     "name": "stdout",
     "output_type": "stream",
     "text": [
      "Epoch: 1 | Train Loss 0.02702945787560611  | Train Precision: 0.8664571513594419 | Train Recall: 0.8916779125021234 | Train F1: 0.8765778707217409\n",
      "Epoch: 1 | Val Loss: 0.018586312897491974 | Val Precision: 0.9219590068510951 | Val Recall: 0.9150444870558101 | Val F1: 0.918326416692937\n"
     ]
    },
    {
     "name": "stderr",
     "output_type": "stream",
     "text": [
      "  0%|          | 0/3309 [00:00<?, ?it/s]C:\\Users\\Alex\\AppData\\Local\\Temp\\ipykernel_8184\\2081287659.py:10: DeprecationWarning: In future, it will be an error for 'np.bool_' scalars to be interpreted as an index\n",
      "  return torch.tensor(self.X[index]), torch.tensor(self.y[index])\n",
      "100%|██████████| 3309/3309 [00:03<00:00, 1019.80it/s]\n",
      "100%|██████████| 1103/1103 [00:00<00:00, 1765.21it/s]\n"
     ]
    },
    {
     "name": "stdout",
     "output_type": "stream",
     "text": [
      "Epoch: 2 | Train Loss 0.017729077524044002  | Train Precision: 0.9182815721066668 | Train Recall: 0.9260642146383258 | Train F1: 0.9219269877684528\n",
      "Epoch: 2 | Val Loss: 0.016414185522874488 | Val Precision: 0.9335332887292072 | Val Recall: 0.9207401817121437 | Val F1: 0.9265843998072121\n"
     ]
    },
    {
     "name": "stderr",
     "output_type": "stream",
     "text": [
      "  0%|          | 0/3309 [00:00<?, ?it/s]C:\\Users\\Alex\\AppData\\Local\\Temp\\ipykernel_8184\\2081287659.py:10: DeprecationWarning: In future, it will be an error for 'np.bool_' scalars to be interpreted as an index\n",
      "  return torch.tensor(self.X[index]), torch.tensor(self.y[index])\n",
      "100%|██████████| 3309/3309 [00:03<00:00, 992.98it/s] \n",
      "100%|██████████| 1103/1103 [00:00<00:00, 1716.78it/s]\n"
     ]
    },
    {
     "name": "stdout",
     "output_type": "stream",
     "text": [
      "Epoch: 3 | Train Loss 0.01633585793008311  | Train Precision: 0.9253251978582931 | Train Recall: 0.9322065743036017 | Train F1: 0.9285757704391259\n",
      "Epoch: 3 | Val Loss: 0.015582051679351795 | Val Precision: 0.93173659662111 | Val Recall: 0.930280654718994 | Val F1: 0.9310007356970047\n"
     ]
    },
    {
     "name": "stderr",
     "output_type": "stream",
     "text": [
      "  0%|          | 0/3309 [00:00<?, ?it/s]C:\\Users\\Alex\\AppData\\Local\\Temp\\ipykernel_8184\\2081287659.py:10: DeprecationWarning: In future, it will be an error for 'np.bool_' scalars to be interpreted as an index\n",
      "  return torch.tensor(self.X[index]), torch.tensor(self.y[index])\n",
      "100%|██████████| 3309/3309 [00:03<00:00, 1025.17it/s]\n",
      "100%|██████████| 1103/1103 [00:00<00:00, 1945.39it/s]\n"
     ]
    },
    {
     "name": "stdout",
     "output_type": "stream",
     "text": [
      "Epoch: 4 | Train Loss 0.015547730526605085  | Train Precision: 0.9291480626662143 | Train Recall: 0.9348078030824782 | Train F1: 0.9318488622431683\n",
      "Epoch: 4 | Val Loss: 0.014787620780138072 | Val Precision: 0.9393176958196432 | Val Recall: 0.9323301291103689 | Val F1: 0.9356547443261758\n"
     ]
    },
    {
     "name": "stderr",
     "output_type": "stream",
     "text": [
      "  0%|          | 0/3309 [00:00<?, ?it/s]C:\\Users\\Alex\\AppData\\Local\\Temp\\ipykernel_8184\\2081287659.py:10: DeprecationWarning: In future, it will be an error for 'np.bool_' scalars to be interpreted as an index\n",
      "  return torch.tensor(self.X[index]), torch.tensor(self.y[index])\n",
      "100%|██████████| 3309/3309 [00:03<00:00, 959.53it/s] \n",
      "100%|██████████| 1103/1103 [00:00<00:00, 1556.37it/s]\n"
     ]
    },
    {
     "name": "stdout",
     "output_type": "stream",
     "text": [
      "Epoch: 5 | Train Loss 0.014933700267102008  | Train Precision: 0.9323674150685524 | Train Recall: 0.9376696417987156 | Train F1: 0.9349058889005364\n",
      "Epoch: 5 | Val Loss: 0.014502587860170061 | Val Precision: 0.9357751428997163 | Val Recall: 0.9366769704221882 | Val F1: 0.9362230044916446\n"
     ]
    },
    {
     "name": "stderr",
     "output_type": "stream",
     "text": [
      "  0%|          | 0/3309 [00:00<?, ?it/s]C:\\Users\\Alex\\AppData\\Local\\Temp\\ipykernel_8184\\2081287659.py:10: DeprecationWarning: In future, it will be an error for 'np.bool_' scalars to be interpreted as an index\n",
      "  return torch.tensor(self.X[index]), torch.tensor(self.y[index])\n",
      "100%|██████████| 3309/3309 [00:03<00:00, 1011.85it/s]\n",
      "100%|██████████| 1103/1103 [00:00<00:00, 1999.69it/s]\n"
     ]
    },
    {
     "name": "stdout",
     "output_type": "stream",
     "text": [
      "Epoch: 6 | Train Loss 0.01448945860896919  | Train Precision: 0.9348931153793085 | Train Recall: 0.9399775523762628 | Train F1: 0.9373322981509095\n",
      "Epoch: 6 | Val Loss: 0.013981451455720974 | Val Precision: 0.9395718153633323 | Val Recall: 0.9385863629271337 | Val F1: 0.9390755520391343\n"
     ]
    },
    {
     "name": "stderr",
     "output_type": "stream",
     "text": [
      "  0%|          | 0/3309 [00:00<?, ?it/s]C:\\Users\\Alex\\AppData\\Local\\Temp\\ipykernel_8184\\2081287659.py:10: DeprecationWarning: In future, it will be an error for 'np.bool_' scalars to be interpreted as an index\n",
      "  return torch.tensor(self.X[index]), torch.tensor(self.y[index])\n",
      "100%|██████████| 3309/3309 [00:03<00:00, 988.89it/s] \n",
      "100%|██████████| 1103/1103 [00:00<00:00, 1516.19it/s]\n"
     ]
    },
    {
     "name": "stdout",
     "output_type": "stream",
     "text": [
      "Epoch: 7 | Train Loss 0.014095579149825913  | Train Precision: 0.9370604660587245 | Train Recall: 0.9416302511009879 | Train F1: 0.9392621387684166\n",
      "Epoch: 7 | Val Loss: 0.013721201622156893 | Val Precision: 0.9410543519908552 | Val Recall: 0.9395336491377264 | Val F1: 0.9402856580811106\n"
     ]
    },
    {
     "name": "stderr",
     "output_type": "stream",
     "text": [
      "  0%|          | 0/3309 [00:00<?, ?it/s]C:\\Users\\Alex\\AppData\\Local\\Temp\\ipykernel_8184\\2081287659.py:10: DeprecationWarning: In future, it will be an error for 'np.bool_' scalars to be interpreted as an index\n",
      "  return torch.tensor(self.X[index]), torch.tensor(self.y[index])\n",
      "100%|██████████| 3309/3309 [00:03<00:00, 1013.56it/s]\n",
      "100%|██████████| 1103/1103 [00:00<00:00, 2017.65it/s]\n"
     ]
    },
    {
     "name": "stdout",
     "output_type": "stream",
     "text": [
      "Epoch: 8 | Train Loss 0.013766489872183967  | Train Precision: 0.9394188191243996 | Train Recall: 0.9433467045133672 | Train F1: 0.9413212196971346\n",
      "Epoch: 8 | Val Loss: 0.0133785297907815 | Val Precision: 0.9428173912796486 | Val Recall: 0.9398735023674043 | Val F1: 0.9413147423824897\n"
     ]
    },
    {
     "name": "stderr",
     "output_type": "stream",
     "text": [
      "  0%|          | 0/3309 [00:00<?, ?it/s]C:\\Users\\Alex\\AppData\\Local\\Temp\\ipykernel_8184\\2081287659.py:10: DeprecationWarning: In future, it will be an error for 'np.bool_' scalars to be interpreted as an index\n",
      "  return torch.tensor(self.X[index]), torch.tensor(self.y[index])\n",
      "100%|██████████| 3309/3309 [00:03<00:00, 1009.49it/s]\n",
      "100%|██████████| 1103/1103 [00:00<00:00, 1590.84it/s]\n"
     ]
    },
    {
     "name": "stdout",
     "output_type": "stream",
     "text": [
      "Epoch: 9 | Train Loss 0.013484668420497808  | Train Precision: 0.940070442383627 | Train Recall: 0.9439720378334209 | Train F1: 0.9419606240449045\n",
      "Epoch: 9 | Val Loss: 0.013166058367185913 | Val Precision: 0.9495208180432475 | Val Recall: 0.9382952304582982 | Val F1: 0.9434984369715675\n"
     ]
    },
    {
     "name": "stderr",
     "output_type": "stream",
     "text": [
      "  0%|          | 0/3309 [00:00<?, ?it/s]C:\\Users\\Alex\\AppData\\Local\\Temp\\ipykernel_8184\\2081287659.py:10: DeprecationWarning: In future, it will be an error for 'np.bool_' scalars to be interpreted as an index\n",
      "  return torch.tensor(self.X[index]), torch.tensor(self.y[index])\n",
      "100%|██████████| 3309/3309 [00:03<00:00, 1053.60it/s]\n",
      "100%|██████████| 1103/1103 [00:00<00:00, 2065.11it/s]\n"
     ]
    },
    {
     "name": "stdout",
     "output_type": "stream",
     "text": [
      "Epoch: 10 | Train Loss 0.013219047383220144  | Train Precision: 0.9417740673657766 | Train Recall: 0.945798297095978 | Train F1: 0.9437221482262386\n",
      "Epoch: 10 | Val Loss: 0.012870887587749501 | Val Precision: 0.9443051435251357 | Val Recall: 0.9412489556813894 | Val F1: 0.9427441467613633\n"
     ]
    }
   ],
   "source": [
    "from sklearn.metrics import precision_recall_fscore_support\n",
    "from tqdm import tqdm\n",
    "\n",
    "for epoch in range(EPOCHS):\n",
    "    model_titles.train()\n",
    "    running_loss = 0\n",
    "    running_acc = 0\n",
    "\n",
    "    train_pred_labels = []\n",
    "    train_true_labels = []\n",
    "\n",
    "    for X, y in tqdm(train_loader):\n",
    "        y = y.to(device, dtype=torch.long)\n",
    "        X = X.to(device, dtype=torch.float)\n",
    "\n",
    "        output = model_titles(X)\n",
    "\n",
    "        output.squeeze(1)\n",
    "        pred = output > 0.5\n",
    "\n",
    "        train_pred_labels.extend(pred.cpu().numpy().tolist())\n",
    "        train_true_labels.extend(y.cpu().numpy().tolist())\n",
    "        \n",
    "        loss = criterion(output.squeeze(1), y.float())\n",
    "        running_loss += loss.item()\n",
    "\n",
    "        model_titles.zero_grad()\n",
    "        loss.backward()\n",
    "        optimizer.step()\n",
    "\n",
    "    pred_labels = []\n",
    "    true_labels = []\n",
    "\n",
    "    model_titles.eval()\n",
    "    val_loss = 0\n",
    "    with torch.no_grad():\n",
    "        for X, y in tqdm(val_loader):\n",
    "            y = y.to(device, dtype=torch.long)\n",
    "            X = X.to(device, dtype=torch.float)\n",
    "\n",
    "            output = model_titles(X)\n",
    "            val_loss += criterion(output.squeeze(1), y.float()).item()\n",
    "            output.squeeze(1)\n",
    "\n",
    "            pred = (output > 0.5)\n",
    "            pred_labels.extend(pred.cpu().numpy().tolist())\n",
    "            true_labels.extend(y.cpu().numpy().tolist())\n",
    "    # \n",
    "    # model_titles.train()\n",
    "    # \n",
    "    precision, recall, f1, _ = precision_recall_fscore_support(true_labels, pred_labels, average='macro')\n",
    "    precision_train, recall_train, f1_train, _ = precision_recall_fscore_support(train_pred_labels, train_true_labels, average='macro')\n",
    "\n",
    "    print(f\"Epoch: {epoch + 1} | Train Loss {running_loss / len(train_set)}  | Train Precision: {precision_train} | Train Recall: {recall_train} | Train F1: {f1_train}\")\n",
    "    print(f\"Epoch: {epoch + 1} | Val Loss: {val_loss / len(val_set)} | Val Precision: {precision} | Val Recall: {recall} | Val F1: {f1}\")\n",
    "\n",
    "torch.save(model_titles.state_dict(), 'models/titleClassifier.pth')"
   ],
   "metadata": {
    "collapsed": false,
    "ExecuteTime": {
     "end_time": "2024-03-31T04:31:59.443088Z",
     "start_time": "2024-03-31T04:31:19.966428Z"
    }
   },
   "id": "1ef77f2027a518d9"
  },
  {
   "cell_type": "code",
   "execution_count": 33,
   "outputs": [],
   "source": [],
   "metadata": {
    "collapsed": false,
    "ExecuteTime": {
     "end_time": "2024-03-31T04:32:09.363661Z",
     "start_time": "2024-03-31T04:32:09.361427Z"
    }
   },
   "id": "5219a4955ae69fc5"
  },
  {
   "cell_type": "code",
   "execution_count": 34,
   "outputs": [],
   "source": [
    "# GATA MODELULU TITLU\n",
    "# GATA MODELULU TITLU"
   ],
   "metadata": {
    "collapsed": false,
    "ExecuteTime": {
     "end_time": "2024-03-31T04:32:09.706422Z",
     "start_time": "2024-03-31T04:32:09.704077Z"
    }
   },
   "id": "12bc5f549bb2ff15"
  },
  {
   "cell_type": "code",
   "execution_count": 34,
   "outputs": [],
   "source": [],
   "metadata": {
    "collapsed": false,
    "ExecuteTime": {
     "end_time": "2024-03-31T04:32:10.120814Z",
     "start_time": "2024-03-31T04:32:10.118509Z"
    }
   },
   "id": "8ffd78e85671890c"
  },
  {
   "cell_type": "code",
   "execution_count": null,
   "outputs": [],
   "source": [],
   "metadata": {
    "collapsed": false
   },
   "id": "89de9860a5ce9179"
  },
  {
   "cell_type": "code",
   "execution_count": 75,
   "outputs": [],
   "source": [
    "def test_embedding():\n",
    "    df = pd.read_csv('test_preprocesat.csv')\n",
    "    X = []\n",
    "    \n",
    "    for title in tqdm(df['title']):\n",
    "        input_ids = torch.tensor(tokenizer.encode(title, add_special_tokens=True, max_length=32, padding='max_length', truncation=True, return_tensors=\"np\"))\n",
    "        outputs = robert(input_ids)\n",
    "        mean_pooling = torch.mean(outputs[0], dim = 1).squeeze(0).detach()\n",
    "        X.append(mean_pooling)\n",
    "        \n",
    "    X = np.array(X)\n",
    "    np.save('test_embeddings.npy', X)\n",
    "    return X"
   ],
   "metadata": {
    "collapsed": false,
    "ExecuteTime": {
     "end_time": "2024-03-31T00:27:51.193598600Z",
     "start_time": "2024-03-31T00:27:51.175391900Z"
    }
   },
   "id": "39f0dce3845cd4ee"
  },
  {
   "cell_type": "code",
   "execution_count": 76,
   "outputs": [],
   "source": [
    "# X_test = test_embedding()\n",
    "X_test = np.load('test_embeddings.npy')"
   ],
   "metadata": {
    "collapsed": false,
    "ExecuteTime": {
     "end_time": "2024-03-31T00:28:10.007653500Z",
     "start_time": "2024-03-31T00:28:09.739741300Z"
    }
   },
   "id": "af168e4b2348f5bd"
  },
  {
   "cell_type": "code",
   "execution_count": null,
   "outputs": [],
   "source": [],
   "metadata": {
    "collapsed": false
   },
   "id": "184d82e3b636eddb"
  },
  {
   "cell_type": "code",
   "execution_count": 2,
   "outputs": [],
   "source": [
    "X_test = np.load('test_embeddings.npy')"
   ],
   "metadata": {
    "collapsed": false,
    "ExecuteTime": {
     "end_time": "2024-03-30T22:46:34.188767900Z",
     "start_time": "2024-03-30T22:46:34.147714800Z"
    }
   },
   "id": "5733fd996e49c7b7"
  },
  {
   "cell_type": "code",
   "execution_count": 6,
   "outputs": [
    {
     "data": {
      "text/plain": "<All keys matched successfully>"
     },
     "execution_count": 6,
     "metadata": {},
     "output_type": "execute_result"
    }
   ],
   "source": [
    "model = ClssificationNetwork().to(device)\n",
    "model.load_state_dict(torch.load('haisavedem.pth'))"
   ],
   "metadata": {
    "collapsed": false,
    "ExecuteTime": {
     "end_time": "2024-03-30T22:47:23.823204900Z",
     "start_time": "2024-03-30T22:47:23.733853Z"
    }
   },
   "id": "669bd5884157ed13"
  },
  {
   "cell_type": "code",
   "execution_count": 77,
   "outputs": [],
   "source": [
    "class CustomTestDataset(Dataset):\n",
    "    def __init__(self, X, y):\n",
    "        self.X = X\n",
    "        self.y = y\n",
    "\n",
    "    def __len__(self):\n",
    "        return len(self.X)\n",
    "\n",
    "    def __getitem__(self, index):\n",
    "        return torch.tensor(self.X[index]), y"
   ],
   "metadata": {
    "collapsed": false,
    "ExecuteTime": {
     "end_time": "2024-03-31T00:28:15.071652200Z",
     "start_time": "2024-03-31T00:28:15.060395900Z"
    }
   },
   "id": "852c8d06d1f31a08"
  },
  {
   "cell_type": "code",
   "execution_count": 78,
   "outputs": [
    {
     "name": "stderr",
     "output_type": "stream",
     "text": [
      "100%|██████████| 36669/36669 [00:08<00:00, 4227.45it/s]\n"
     ]
    },
    {
     "data": {
      "text/plain": "ClssificationNetwork(\n  (linear): Linear(in_features=768, out_features=128, bias=True)\n  (classifier): Linear(in_features=128, out_features=1, bias=True)\n  (relu): ReLU()\n  (sigmoid): Sigmoid()\n)"
     },
     "execution_count": 78,
     "metadata": {},
     "output_type": "execute_result"
    }
   ],
   "source": [
    "model.eval()\n",
    "predictions = []\n",
    "indices = []\n",
    "cnt = 0\n",
    "with torch.no_grad():\n",
    "    for i in tqdm(range(len(X_test))):\n",
    "        axu = torch.tensor(X_test[i], dtype=torch.float).to(device)\n",
    "        prediction = model(axu) > 0.5\n",
    "        predictions.append(prediction.item())\n",
    "        indices.append(cnt)\n",
    "        cnt += 1\n",
    "model.train()"
   ],
   "metadata": {
    "collapsed": false,
    "ExecuteTime": {
     "end_time": "2024-03-31T00:28:25.199670400Z",
     "start_time": "2024-03-31T00:28:16.496736100Z"
    }
   },
   "id": "7c620b4ea45dfb4b"
  },
  {
   "cell_type": "code",
   "execution_count": 227,
   "outputs": [
    {
     "data": {
      "text/plain": "36669"
     },
     "execution_count": 227,
     "metadata": {},
     "output_type": "execute_result"
    }
   ],
   "source": [
    "len(ids)"
   ],
   "metadata": {
    "collapsed": false,
    "ExecuteTime": {
     "end_time": "2024-03-30T22:42:58.226112Z",
     "start_time": "2024-03-30T22:42:58.211412500Z"
    }
   },
   "id": "8fbb6459bc57c07e"
  },
  {
   "cell_type": "code",
   "execution_count": 79,
   "outputs": [],
   "source": [
    "submisie = pd.DataFrame({'id':indices, 'class':list(map(int, predictions))})\n",
    "submisie.to_csv('submission.csv', index=False)"
   ],
   "metadata": {
    "collapsed": false,
    "ExecuteTime": {
     "end_time": "2024-03-31T00:28:28.389971400Z",
     "start_time": "2024-03-31T00:28:28.365055700Z"
    }
   },
   "id": "c33bdaba8f4339ba"
  },
  {
   "cell_type": "code",
   "execution_count": null,
   "outputs": [],
   "source": [],
   "metadata": {
    "collapsed": false
   },
   "id": "7e384df2ad9b0c7"
  },
  {
   "cell_type": "code",
   "execution_count": null,
   "outputs": [],
   "source": [],
   "metadata": {
    "collapsed": false
   },
   "id": "7a3ebe8c20470a36"
  },
  {
   "cell_type": "code",
   "execution_count": null,
   "outputs": [],
   "source": [],
   "metadata": {
    "collapsed": false
   },
   "id": "6d873f49f3549480"
  },
  {
   "cell_type": "code",
   "execution_count": 35,
   "outputs": [],
   "source": [
    "# preprocess the data for the model\n",
    "def replace_unwanted_characters(df):\n",
    "    df['content'] = df['content'].fillna('')\n",
    "    df['title'] = df['title'].fillna('')\n",
    "    df['title'] = df['title'].apply(lambda x: x.replace(\"ţ\", \"ț\").replace(\"ş\", \"ș\").replace(\"Ţ\", \"Ț\").replace(\"Ş\", \"Ș\"))\n",
    "    df['content'] = df['content'].apply(lambda x: x.replace(\"ţ\", \"ț\").replace(\"ş\", \"ș\").replace(\"Ţ\", \"Ț\").replace(\"Ş\", \"Ș\"))\n",
    "    return df\n",
    "\n",
    "repeated_characters = [x * 3 for x in \"AĂÂBCDEFGHÎJKLMNOPQRSȘTȚUVWXYZaăâbcdefghîjklmnopqrsștțuvwxyz,.-/';[]-!@#$%^&*()?+\"]\n",
    "repeated_characters.append('iiii')\n",
    "repeated_characters.append('IIII')\n",
    "\n",
    "profanity_list = [\n",
    "    \"muie\",\n",
    "    \"laba\",\n",
    "    \"labă\",\n",
    "    \"pula\",\n",
    "    \"pulă\",\n",
    "    \"pizda\",\n",
    "    \"pizdă\",\n",
    "    \"ce pula\",\n",
    "    \"ce pulă\",\n",
    "    \"ce pizda\",\n",
    "    \"ce pizdă\",\n",
    "    \"caca\",\n",
    "    \"cacat\",\n",
    "    \"căcat\",\n",
    "    \"pipi\",\n",
    "    \"pisat\",\n",
    "    \"pișat\",\n",
    "    \"pishat\",\n",
    "    \"rahat\",\n",
    "    \"kkt\",\n",
    "    \"kk\",\n",
    "    \"plm\",\n",
    "    \"ma fut\",\n",
    "    \"mă fut\",\n",
    "    \"ma cac\",\n",
    "    \"mă cac\",\n",
    "    \"ma pis\",\n",
    "    \"mă pis\",\n",
    "    \"ma pish\",\n",
    "    \"mă pish\",\n",
    "    \"pwla\",\n",
    "    \"pwlă\",\n",
    "    \"p.u.l.a.\",\n",
    "    \"poola\",\n",
    "    \"naiba\",\n",
    "    \"dracu\",\n",
    "    \"draq\",\n",
    "    \"drecu\",\n",
    "    \"naibii\",\n",
    "    \"dracului\",\n",
    "    \"drecului\",\n",
    "    \"drqlui\",\n",
    "    \"coaie\",\n",
    "    \"coae\",\n",
    "    \"sloboz\",\n",
    "    \"lindic\",\n",
    "    \"gaoz\",\n",
    "    \"ochiul maro\",\n",
    "    \"floci\",\n",
    "    \"cur\",\n",
    "    \"futai\",\n",
    "    \"futare\",\n",
    "    \"futere\",\n",
    "    \"popou\",\n",
    "    \"nanau\",\n",
    "    \"pulii\",\n",
    "    \"pulii mele\",\n",
    "    \"coaiele\",\n",
    "    \"coaiele mele\",\n",
    "    \"pulile\",\n",
    "    \"măta\",\n",
    "    \"mata\",\n",
    "    \"mă-tii\",\n",
    "    \"mă-ta\",\n",
    "    \"mă-ti\",\n",
    "]\n",
    "\n",
    "english_words = set(words.words())\n",
    "\n",
    "def normalize_text(df):\n",
    "\n",
    "    df['title'] = df['title'].apply(lambda x : re.sub(r\"<.*?>\", '', x ))\n",
    "    df['content'] = df['content'].apply(lambda x:re.sub(r\"<.*?>\", '', x))\n",
    "\n",
    "    df['title'] = df['title'].apply(lambda x : re.sub(r\"\\.\\.\\.\", '', x ))\n",
    "    df['content'] = df['content'].apply(lambda x:re.sub(r\"\\.\\.\\.\", '', x))\n",
    "\n",
    "    df['title'] = df['title'].apply(lambda x : re.sub(r\"#[\\w+-]+\", '[HTAG]', x ))\n",
    "    df['content'] = df['content'].apply(lambda x:re.sub(r\"#[\\w+-]+\", '[HTAG]', x))\n",
    "\n",
    "    df['title'] = df['title'].apply(lambda x : ' '.join([\"[STAR]\" if \"*\" in word else word for word in x.split()]))\n",
    "    df['content'] = df['content'].apply(lambda x:' '.join([\"[STAR]\" if \"*\" in word else word for word in x.split()]))\n",
    "\n",
    "    df['title'] = df['title'].apply(lambda x : ' '.join([\"[REP]\" if any([rep in word for rep in repeated_characters]) else word for word in x.split()]))\n",
    "    df['content'] = df['content'].apply(lambda x : ' '.join([\"[REP]\" if any([rep in word for rep in repeated_characters]) else word for word in x.split()]))\n",
    "\n",
    "    pattern = r'^[!?\"\\',“”-]*(.*?)[!?\"\\',“”-]*$'\n",
    "    df['title'] = df['title'].apply(lambda x : ' '.join([\"[PROF]\" if re.sub(pattern, r'\\1', word) in profanity_list else word for word in x.split()]))\n",
    "    df['content'] = df['content'].apply(lambda x : ' '.join([\"[PROF]\" if re.sub(pattern, r'\\1', word) in profanity_list else word for word in x.split()]))\n",
    "\n",
    "\n",
    "    emoji_pattern = r\"\"\"\n",
    "                    (?:\n",
    "                      [<>]?\n",
    "                      [:;=8]                     # eyes\n",
    "                      [\\-o\\*\\']?                 # optional nose\n",
    "                      [\\)\\]\\(\\[dDpP/\\:\\}\\{@\\|\\\\] # mouth\n",
    "                      |\n",
    "                      [\\)\\]\\(\\[dDpP/\\:\\}\\{@\\|\\\\] # mouth\n",
    "                      [\\-o\\*\\']?                 # optional nose\n",
    "                      [:;=8]                     # eyes\n",
    "                      [<>]?\n",
    "                      |\n",
    "                      </?3                       # heart\n",
    "                    )\"\"\"\n",
    "    df['title'] = df['title'].apply(lambda x : re.sub(emoji_pattern, '[EMOJI]', x ))\n",
    "    df['content'] = df['content'].apply(lambda x : re.sub(emoji_pattern, '[EMOJI]', x ))\n",
    "\n",
    "\n",
    "    return df"
   ],
   "metadata": {
    "collapsed": false,
    "ExecuteTime": {
     "end_time": "2024-03-30T23:05:38.338234100Z",
     "start_time": "2024-03-30T23:05:38.277895700Z"
    }
   },
   "id": "8c2dd5441fec9d95"
  },
  {
   "cell_type": "code",
   "execution_count": 27,
   "outputs": [],
   "source": [
    "def split_train_in_four(dataset):\n",
    "    length = int(len(dataset) / 4)\n",
    "    \n",
    "    first = dataset[:length]\n",
    "    second = dataset[length:2*length]\n",
    "    third = dataset[2*length:3*length]\n",
    "    fourth = dataset[3*length:4*length]\n",
    "\n",
    "    first.to_csv('first.csv', encoding='utf-8', index=False)\n",
    "    second.to_csv('second.csv', encoding='utf-8', index=False)\n",
    "    third.to_csv('third.csv', encoding='utf-8', index=False)\n",
    "    fourth.to_csv('fourth.csv', encoding='utf-8', index=False)\n",
    "    \n",
    "split_train_in_four(pd.read_csv('data/train.csv'))"
   ],
   "metadata": {
    "collapsed": false,
    "ExecuteTime": {
     "end_time": "2024-03-30T23:03:58.902472200Z",
     "start_time": "2024-03-30T23:03:55.441724900Z"
    }
   },
   "id": "835228fffe3097f8"
  },
  {
   "cell_type": "code",
   "execution_count": 54,
   "outputs": [],
   "source": [
    "def get_titles_tokens(df):\n",
    "    X_train = []\n",
    "    y_train = []\n",
    "    aux = list(zip(df['title'].tolist(), df['class'].tolist()))\n",
    "\n",
    "    tokenizer = AutoTokenizer.from_pretrained(\"dumitrescustefan/bert-base-romanian-cased-v1\")\n",
    "    added_toks = tokenizer.add_special_tokens({'additional_special_tokens': ['[STAR]', '[HTAG]', '[REP]', '[PROF]', '[EMOJI]']})\n",
    "    \n",
    "    robert = AutoModel.from_pretrained(\"dumitrescustefan/bert-base-romanian-cased-v1\")\n",
    "    robert.resize_token_embeddings(len(tokenizer))\n",
    "\n",
    "    for title, label in tqdm(aux):\n",
    "        input_ids = torch.tensor(tokenizer.encode(title, add_special_tokens=True, max_length=32, padding='max_length', truncation=True, return_tensors=\"np\"))\n",
    "        outputs = robert(input_ids)\n",
    "        mean_pooling = torch.mean(outputs[0], dim = 1).squeeze(0).detach()\n",
    "        X_train.append(mean_pooling)\n",
    "        y_train.append(label)\n",
    "\n",
    "    X_train = np.array(X_train)\n",
    "    y_train = np.array(y_train)\n",
    "    \n",
    "    return X_train, y_train\n",
    "\n",
    "def get_content_tokens(df):\n",
    "    X_train = []\n",
    "    y_train = []\n",
    "    aux = list(zip(df['content'].tolist(), df['class'].tolist()))\n",
    "\n",
    "    tokenizer = AutoTokenizer.from_pretrained(\"dumitrescustefan/bert-base-romanian-cased-v1\")\n",
    "    added_toks = tokenizer.add_special_tokens({'additional_special_tokens': ['[STAR]', '[HTAG]', '[REP]', '[PROF]', '[EMOJI]']})\n",
    "    \n",
    "    robert = AutoModel.from_pretrained(\"dumitrescustefan/bert-base-romanian-cased-v1\")\n",
    "    robert.resize_token_embeddings(len(tokenizer))\n",
    "        \n",
    "    for content, label in tqdm(aux):\n",
    "        if len(content) > 0:\n",
    "            input_ids = torch.tensor(tokenizer.encode(content, add_special_tokens=True, max_length=512, padding='max_length', truncation=True, return_tensors=\"np\"))\n",
    "            outputs = robert(input_ids)\n",
    "            mean_pooling = torch.mean(outputs[0], dim = 1).squeeze(0).detach()\n",
    "            X_train.append(mean_pooling)\n",
    "            y_train.append(label)\n",
    "        else:\n",
    "            X_train.append([0 for _ in range(768)])\n",
    "            y_train.append(label)\n",
    "    \n",
    "    X_train = np.array(X_train)\n",
    "    y_train = np.array(y_train)\n",
    "\n",
    "    return X_train, y_train\n",
    "\n",
    "\n",
    "def preprocess_dataset(df, name):\n",
    "    df = replace_unwanted_characters(df)\n",
    "    df = normalize_text(df)\n",
    "    \n",
    "    text_embeddings, _ = get_titles_tokens(df)\n",
    "    content_embeddings, _ = get_content_tokens(df)\n",
    "    \n",
    "    np.save(name+'title.npy', text_embeddings)\n",
    "    np.save(name+'content.npy', content_embeddings)\n",
    "    "
   ],
   "metadata": {
    "collapsed": false,
    "ExecuteTime": {
     "end_time": "2024-03-30T23:09:01.545280600Z",
     "start_time": "2024-03-30T23:09:01.526476100Z"
    }
   },
   "id": "e8f4be5ee12d6560"
  },
  {
   "cell_type": "code",
   "execution_count": 57,
   "outputs": [
    {
     "name": "stderr",
     "output_type": "stream",
     "text": [
      "100%|██████████| 17643/17643 [09:08<00:00, 32.19it/s]\n",
      "100%|██████████| 17643/17643 [56:22<00:00,  5.22it/s]\n"
     ]
    }
   ],
   "source": [
    "df = pd.read_csv('fourth.csv')\n",
    "preprocess_dataset(df, 'fourth')"
   ],
   "metadata": {
    "collapsed": false,
    "ExecuteTime": {
     "end_time": "2024-03-31T00:18:58.911422400Z",
     "start_time": "2024-03-30T23:12:58.648420800Z"
    }
   },
   "id": "e29d17c1aadde196"
  },
  {
   "cell_type": "code",
   "execution_count": null,
   "outputs": [],
   "source": [],
   "metadata": {
    "collapsed": false
   },
   "id": "9f80c916d8cb317d"
  },
  {
   "cell_type": "code",
   "execution_count": null,
   "outputs": [],
   "source": [
    "# AICI ESTE MODELUL PENTRU TITLU SI CONTENT"
   ],
   "metadata": {
    "collapsed": false
   },
   "id": "be64bd58fb40bcc7"
  },
  {
   "cell_type": "code",
   "execution_count": null,
   "outputs": [],
   "source": [],
   "metadata": {
    "collapsed": false
   },
   "id": "7463eb085f22c2cb"
  },
  {
   "cell_type": "code",
   "execution_count": 141,
   "outputs": [],
   "source": [
    "class TitleAndContent(nn.Module):\n",
    "    def __init__(self):\n",
    "        super(TitleAndContent, self).__init__()\n",
    "        self.linear_text = nn.Linear(768, 128)\n",
    "        self.linear_content = nn.Linear(768, 128)\n",
    "        self.classifier = nn.Linear(256, 1)\n",
    "        self.relu = nn.ReLU()\n",
    "        self.sigmoid = nn.Sigmoid()\n",
    "        self.dropout = nn.Dropout(0.2)\n",
    "        \n",
    "    def forward(self, titles, contents):\n",
    "        titles = self.linear_text(titles)\n",
    "        contents = self.linear_content(contents)\n",
    "\n",
    "        titles = self.relu(titles)\n",
    "        contents = self.relu(contents)\n",
    "\n",
    "        titles = self.dropout(titles)\n",
    "        contents = self.dropout(contents)\n",
    "        \n",
    "        cat = torch.cat([titles, contents], axis = 1)\n",
    "        \n",
    "        out = self.classifier(cat)\n",
    "        out = self.dropout(out)\n",
    "        \n",
    "        return self.sigmoid(out)"
   ],
   "metadata": {
    "collapsed": false,
    "ExecuteTime": {
     "end_time": "2024-03-31T05:46:47.475577Z",
     "start_time": "2024-03-31T05:46:47.472059Z"
    }
   },
   "id": "4474e7a91e8895a4"
  },
  {
   "cell_type": "code",
   "execution_count": 142,
   "outputs": [],
   "source": [
    "class TextAndContentDataset(Dataset):\n",
    "    def __init__(self, x_titles, x_contents, y):\n",
    "        super(TextAndContentDataset, self).__init__()\n",
    "        self.x_titles = x_titles\n",
    "        self.x_contents = x_contents\n",
    "        self.y = y\n",
    "        \n",
    "    def __len__(self):\n",
    "        return len(self.y)\n",
    "    \n",
    "    def __getitem__(self, item):\n",
    "        return torch.tensor(self.x_titles[item]), torch.tensor(self.x_contents[item]), torch.tensor(self.y[item])"
   ],
   "metadata": {
    "collapsed": false,
    "ExecuteTime": {
     "end_time": "2024-03-31T05:46:50.492716Z",
     "start_time": "2024-03-31T05:46:50.490212Z"
    }
   },
   "id": "7ec2ad38bf878851"
  },
  {
   "cell_type": "code",
   "execution_count": 143,
   "outputs": [],
   "source": [
    "def get_training_data_content():\n",
    "    first = pd.read_csv('first.csv')\n",
    "    first_indices = first[first['content'].str.len() > 1].index.tolist()\n",
    "    first_titles = np.load('training_splits/firsttitle.npy')\n",
    "    first_titles = first_titles[first_indices]\n",
    "    first_contents = np.load('training_splits/firstcontent.npy')\n",
    "    first_contents = first_contents[first_indices]\n",
    "    first_labels = np.array(first['class'].tolist())\n",
    "    first_labels = first_labels[first_indices]\n",
    "\n",
    "    second = pd.read_csv('second.csv')\n",
    "    second_indices = second[second['content'].str.len() > 1].index.tolist()\n",
    "    second_titles = np.load('training_splits/secondtitle.npy')\n",
    "    second_titles = second_titles[second_indices]\n",
    "    second_contents = np.load('training_splits/secondcontent.npy')\n",
    "    second_contents = second_contents[second_indices]\n",
    "    second_labels = np.array(second['class'].tolist())\n",
    "    second_labels = second_labels[second_indices]\n",
    "\n",
    "    third = pd.read_csv('third.csv')\n",
    "    third_indices = third[third['content'].str.len() > 1].index.tolist()\n",
    "    third_titles = np.load('training_splits/thirdtitle.npy')\n",
    "    third_titles = third_titles[third_indices]\n",
    "    third_contents = np.load('training_splits/thirdcontent.npy')\n",
    "    third_contents = third_contents[third_indices]\n",
    "    third_labels = np.array(third['class'].tolist())\n",
    "    third_labels = third_labels[third_indices]\n",
    "\n",
    "    fourth = pd.read_csv('fourth.csv')\n",
    "    fourth_indices = fourth[fourth['content'].str.len() > 1].index.tolist()\n",
    "    fourth_titles = np.load('training_splits/fourthtitle.npy')\n",
    "    fourth_titles = fourth_titles[fourth_indices]\n",
    "    fourth_contens = np.load('training_splits/fourthcontent.npy')\n",
    "    fourth_contens = fourth_contens[fourth_indices]\n",
    "    fourth_labels = np.array(fourth['class'].tolist())\n",
    "    fourth_labels = fourth_labels[fourth_indices]\n",
    "\n",
    "    all_titles = np.concatenate((first_titles, second_titles, third_titles, fourth_titles), axis=0)\n",
    "    all_contents = np.concatenate((first_contents, second_contents, third_contents, fourth_contens), axis=0)\n",
    "    all_labels = np.concatenate((first_labels, second_labels, third_labels, fourth_labels))\n",
    "    \n",
    "    # all_titles = np.concatenate((first_titles, second_titles, third_titles), axis=0)\n",
    "    # all_contents = np.concatenate((first_contents, second_contents, third_contents), axis=0)\n",
    "    # all_labels = np.concatenate((first_labels, second_labels, third_labels))\n",
    "    \n",
    "    \n",
    "    return all_titles, all_contents, all_labels\n",
    "\n",
    "def get_validation_data_content():\n",
    "    fourth = pd.read_csv('fourth.csv')\n",
    "    fourth_indices = fourth[fourth['content'].str.len() > 1].index.tolist()\n",
    "    fourth_titles = np.load('training_splits/fourthtitle.npy')\n",
    "    fourth_titles = fourth_titles[fourth_indices]\n",
    "    fourth_contens = np.load('training_splits/fourthcontent.npy')\n",
    "    fourth_contens = fourth_contens[fourth_indices]\n",
    "    fourth_labels = np.array(fourth['class'].tolist())\n",
    "    fourth_labels = fourth_labels[fourth_indices]\n",
    "\n",
    "    return fourth_titles, fourth_contens, fourth_labels"
   ],
   "metadata": {
    "collapsed": false,
    "ExecuteTime": {
     "end_time": "2024-03-31T05:46:55.887051Z",
     "start_time": "2024-03-31T05:46:55.882511Z"
    }
   },
   "id": "33dd020a34a5c05a"
  },
  {
   "cell_type": "code",
   "execution_count": 195,
   "outputs": [],
   "source": [
    "X_train_titles, X_train_contents, y_train = get_training_data_content()\n",
    "# X_val_titles, X_val_contents, y_val = get_validation_data_content()"
   ],
   "metadata": {
    "collapsed": false,
    "ExecuteTime": {
     "end_time": "2024-03-31T06:31:26.718804Z",
     "start_time": "2024-03-31T06:31:24.853078Z"
    }
   },
   "id": "700df277ae9032aa"
  },
  {
   "cell_type": "code",
   "execution_count": 206,
   "outputs": [],
   "source": [
    "train_set = TextAndContentDataset(X_train_titles, X_train_contents,y_train)\n",
    "train_loader = DataLoader(train_set, shuffle=True, batch_size=256)\n",
    "\n",
    "# val_set = TextAndContentDataset(X_val_titles, X_val_contents,y_val)\n",
    "# val_loader = DataLoader(val_set, shuffle=True, batch_size=64)"
   ],
   "metadata": {
    "collapsed": false,
    "ExecuteTime": {
     "end_time": "2024-03-31T06:42:47.899182Z",
     "start_time": "2024-03-31T06:42:47.896182Z"
    }
   },
   "id": "4910e8b5aa40fdad"
  },
  {
   "cell_type": "code",
   "execution_count": 207,
   "outputs": [],
   "source": [
    "model_text_and_content = TitleAndContent().to(device)\n",
    "optimizer = optim.Adam(model_text_and_content.parameters(),lr=1e-4)\n",
    "# scheduler = lr_scheduler.ReduceLROnPlateau(optimizer, 'min')\n",
    "criterion = nn.BCELoss(weight=torch.tensor([len(y_train) / np.sum(y_train)]).to(device))"
   ],
   "metadata": {
    "collapsed": false,
    "ExecuteTime": {
     "end_time": "2024-03-31T06:42:48.641750Z",
     "start_time": "2024-03-31T06:42:48.636734Z"
    }
   },
   "id": "1b29109b5eedb23b"
  },
  {
   "cell_type": "code",
   "execution_count": 208,
   "outputs": [],
   "source": [
    "EPOCHS = 100"
   ],
   "metadata": {
    "collapsed": false,
    "ExecuteTime": {
     "end_time": "2024-03-31T06:42:48.852494Z",
     "start_time": "2024-03-31T06:42:48.850602Z"
    }
   },
   "id": "7c34908399d6da7d"
  },
  {
   "cell_type": "code",
   "execution_count": 209,
   "outputs": [
    {
     "name": "stderr",
     "output_type": "stream",
     "text": [
      "  0%|          | 0/271 [00:00<?, ?it/s]C:\\Users\\Alex\\AppData\\Local\\Temp\\ipykernel_8184\\1227666216.py:12: DeprecationWarning: In future, it will be an error for 'np.bool_' scalars to be interpreted as an index\n",
      "  return torch.tensor(self.x_titles[item]), torch.tensor(self.x_contents[item]), torch.tensor(self.y[item])\n",
      "100%|██████████| 271/271 [00:01<00:00, 195.08it/s]\n"
     ]
    },
    {
     "name": "stdout",
     "output_type": "stream",
     "text": [
      "Epoch: 1 | Train Loss 0.0021509333851850027  | Train Precision: 0.8037687819272201 | Train Recall: 0.7834750045913559 | Train F1: 0.7863898192504182\n"
     ]
    },
    {
     "name": "stderr",
     "output_type": "stream",
     "text": [
      "  0%|          | 0/271 [00:00<?, ?it/s]C:\\Users\\Alex\\AppData\\Local\\Temp\\ipykernel_8184\\1227666216.py:12: DeprecationWarning: In future, it will be an error for 'np.bool_' scalars to be interpreted as an index\n",
      "  return torch.tensor(self.x_titles[item]), torch.tensor(self.x_contents[item]), torch.tensor(self.y[item])\n",
      "100%|██████████| 271/271 [00:01<00:00, 218.68it/s]\n"
     ]
    },
    {
     "name": "stdout",
     "output_type": "stream",
     "text": [
      "Epoch: 2 | Train Loss 0.0013768392061313333  | Train Precision: 0.8683203701908164 | Train Recall: 0.8413104390504298 | Train F1: 0.8415911202709866\n"
     ]
    },
    {
     "name": "stderr",
     "output_type": "stream",
     "text": [
      "  0%|          | 0/271 [00:00<?, ?it/s]C:\\Users\\Alex\\AppData\\Local\\Temp\\ipykernel_8184\\1227666216.py:12: DeprecationWarning: In future, it will be an error for 'np.bool_' scalars to be interpreted as an index\n",
      "  return torch.tensor(self.x_titles[item]), torch.tensor(self.x_contents[item]), torch.tensor(self.y[item])\n",
      "100%|██████████| 271/271 [00:01<00:00, 203.69it/s]\n"
     ]
    },
    {
     "name": "stdout",
     "output_type": "stream",
     "text": [
      "Epoch: 3 | Train Loss 0.001270657740843721  | Train Precision: 0.8748453013659432 | Train Recall: 0.8473065320718816 | Train F1: 0.8474961884908547\n"
     ]
    },
    {
     "name": "stderr",
     "output_type": "stream",
     "text": [
      "  0%|          | 0/271 [00:00<?, ?it/s]C:\\Users\\Alex\\AppData\\Local\\Temp\\ipykernel_8184\\1227666216.py:12: DeprecationWarning: In future, it will be an error for 'np.bool_' scalars to be interpreted as an index\n",
      "  return torch.tensor(self.x_titles[item]), torch.tensor(self.x_contents[item]), torch.tensor(self.y[item])\n",
      "100%|██████████| 271/271 [00:01<00:00, 209.42it/s]\n"
     ]
    },
    {
     "name": "stdout",
     "output_type": "stream",
     "text": [
      "Epoch: 4 | Train Loss 0.0012214714876774616  | Train Precision: 0.8772224387852663 | Train Recall: 0.849427227782245 | Train F1: 0.8492398644069119\n"
     ]
    },
    {
     "name": "stderr",
     "output_type": "stream",
     "text": [
      "  0%|          | 0/271 [00:00<?, ?it/s]C:\\Users\\Alex\\AppData\\Local\\Temp\\ipykernel_8184\\1227666216.py:12: DeprecationWarning: In future, it will be an error for 'np.bool_' scalars to be interpreted as an index\n",
      "  return torch.tensor(self.x_titles[item]), torch.tensor(self.x_contents[item]), torch.tensor(self.y[item])\n",
      "100%|██████████| 271/271 [00:01<00:00, 228.33it/s]\n"
     ]
    },
    {
     "name": "stdout",
     "output_type": "stream",
     "text": [
      "Epoch: 5 | Train Loss 0.0011969562867788688  | Train Precision: 0.878500474272931 | Train Recall: 0.850573047654348 | Train F1: 0.8501797548125181\n"
     ]
    },
    {
     "name": "stderr",
     "output_type": "stream",
     "text": [
      "  0%|          | 0/271 [00:00<?, ?it/s]C:\\Users\\Alex\\AppData\\Local\\Temp\\ipykernel_8184\\1227666216.py:12: DeprecationWarning: In future, it will be an error for 'np.bool_' scalars to be interpreted as an index\n",
      "  return torch.tensor(self.x_titles[item]), torch.tensor(self.x_contents[item]), torch.tensor(self.y[item])\n",
      "100%|██████████| 271/271 [00:01<00:00, 210.22it/s]\n"
     ]
    },
    {
     "name": "stdout",
     "output_type": "stream",
     "text": [
      "Epoch: 6 | Train Loss 0.0011651499368883179  | Train Precision: 0.8826572548654871 | Train Recall: 0.8545189833988994 | Train F1: 0.8547472598507807\n"
     ]
    },
    {
     "name": "stderr",
     "output_type": "stream",
     "text": [
      "  0%|          | 0/271 [00:00<?, ?it/s]C:\\Users\\Alex\\AppData\\Local\\Temp\\ipykernel_8184\\1227666216.py:12: DeprecationWarning: In future, it will be an error for 'np.bool_' scalars to be interpreted as an index\n",
      "  return torch.tensor(self.x_titles[item]), torch.tensor(self.x_contents[item]), torch.tensor(self.y[item])\n",
      "100%|██████████| 271/271 [00:01<00:00, 220.15it/s]\n"
     ]
    },
    {
     "name": "stdout",
     "output_type": "stream",
     "text": [
      "Epoch: 7 | Train Loss 0.0011416802642312185  | Train Precision: 0.8831766830013216 | Train Recall: 0.8549407239089812 | Train F1: 0.8548628259299502\n"
     ]
    },
    {
     "name": "stderr",
     "output_type": "stream",
     "text": [
      "  0%|          | 0/271 [00:00<?, ?it/s]C:\\Users\\Alex\\AppData\\Local\\Temp\\ipykernel_8184\\1227666216.py:12: DeprecationWarning: In future, it will be an error for 'np.bool_' scalars to be interpreted as an index\n",
      "  return torch.tensor(self.x_titles[item]), torch.tensor(self.x_contents[item]), torch.tensor(self.y[item])\n",
      "100%|██████████| 271/271 [00:01<00:00, 204.39it/s]\n"
     ]
    },
    {
     "name": "stdout",
     "output_type": "stream",
     "text": [
      "Epoch: 8 | Train Loss 0.0011297747706384453  | Train Precision: 0.8837162502753735 | Train Recall: 0.8554179969113191 | Train F1: 0.8552173975679921\n"
     ]
    },
    {
     "name": "stderr",
     "output_type": "stream",
     "text": [
      "  0%|          | 0/271 [00:00<?, ?it/s]C:\\Users\\Alex\\AppData\\Local\\Temp\\ipykernel_8184\\1227666216.py:12: DeprecationWarning: In future, it will be an error for 'np.bool_' scalars to be interpreted as an index\n",
      "  return torch.tensor(self.x_titles[item]), torch.tensor(self.x_contents[item]), torch.tensor(self.y[item])\n",
      "100%|██████████| 271/271 [00:01<00:00, 210.88it/s]\n"
     ]
    },
    {
     "name": "stdout",
     "output_type": "stream",
     "text": [
      "Epoch: 9 | Train Loss 0.0011221100810076374  | Train Precision: 0.8830764596355574 | Train Recall: 0.8547577128917654 | Train F1: 0.8540752720796827\n"
     ]
    },
    {
     "name": "stderr",
     "output_type": "stream",
     "text": [
      "  0%|          | 0/271 [00:00<?, ?it/s]C:\\Users\\Alex\\AppData\\Local\\Temp\\ipykernel_8184\\1227666216.py:12: DeprecationWarning: In future, it will be an error for 'np.bool_' scalars to be interpreted as an index\n",
      "  return torch.tensor(self.x_titles[item]), torch.tensor(self.x_contents[item]), torch.tensor(self.y[item])\n",
      "100%|██████████| 271/271 [00:01<00:00, 190.89it/s]\n"
     ]
    },
    {
     "name": "stdout",
     "output_type": "stream",
     "text": [
      "Epoch: 10 | Train Loss 0.0011011245137813796  | Train Precision: 0.8852956184717414 | Train Recall: 0.8568686616502352 | Train F1: 0.8566236802058285\n"
     ]
    },
    {
     "name": "stderr",
     "output_type": "stream",
     "text": [
      "  0%|          | 0/271 [00:00<?, ?it/s]C:\\Users\\Alex\\AppData\\Local\\Temp\\ipykernel_8184\\1227666216.py:12: DeprecationWarning: In future, it will be an error for 'np.bool_' scalars to be interpreted as an index\n",
      "  return torch.tensor(self.x_titles[item]), torch.tensor(self.x_contents[item]), torch.tensor(self.y[item])\n",
      "100%|██████████| 271/271 [00:01<00:00, 221.17it/s]\n"
     ]
    },
    {
     "name": "stdout",
     "output_type": "stream",
     "text": [
      "Epoch: 11 | Train Loss 0.0011003058803761565  | Train Precision: 0.8850825409926877 | Train Recall: 0.8566690010056078 | Train F1: 0.8564050251222546\n"
     ]
    },
    {
     "name": "stderr",
     "output_type": "stream",
     "text": [
      "  0%|          | 0/271 [00:00<?, ?it/s]C:\\Users\\Alex\\AppData\\Local\\Temp\\ipykernel_8184\\1227666216.py:12: DeprecationWarning: In future, it will be an error for 'np.bool_' scalars to be interpreted as an index\n",
      "  return torch.tensor(self.x_titles[item]), torch.tensor(self.x_contents[item]), torch.tensor(self.y[item])\n",
      "100%|██████████| 271/271 [00:01<00:00, 204.12it/s]\n"
     ]
    },
    {
     "name": "stdout",
     "output_type": "stream",
     "text": [
      "Epoch: 12 | Train Loss 0.0010854687593020351  | Train Precision: 0.8869664378904498 | Train Recall: 0.8584730758594373 | Train F1: 0.8585934233592403\n"
     ]
    },
    {
     "name": "stderr",
     "output_type": "stream",
     "text": [
      "  0%|          | 0/271 [00:00<?, ?it/s]C:\\Users\\Alex\\AppData\\Local\\Temp\\ipykernel_8184\\1227666216.py:12: DeprecationWarning: In future, it will be an error for 'np.bool_' scalars to be interpreted as an index\n",
      "  return torch.tensor(self.x_titles[item]), torch.tensor(self.x_contents[item]), torch.tensor(self.y[item])\n",
      "100%|██████████| 271/271 [00:01<00:00, 216.90it/s]\n"
     ]
    },
    {
     "name": "stdout",
     "output_type": "stream",
     "text": [
      "Epoch: 13 | Train Loss 0.0010825681910298125  | Train Precision: 0.8867729413469586 | Train Recall: 0.8582516707783562 | Train F1: 0.8581273969594891\n"
     ]
    },
    {
     "name": "stderr",
     "output_type": "stream",
     "text": [
      "  0%|          | 0/271 [00:00<?, ?it/s]C:\\Users\\Alex\\AppData\\Local\\Temp\\ipykernel_8184\\1227666216.py:12: DeprecationWarning: In future, it will be an error for 'np.bool_' scalars to be interpreted as an index\n",
      "  return torch.tensor(self.x_titles[item]), torch.tensor(self.x_contents[item]), torch.tensor(self.y[item])\n",
      "100%|██████████| 271/271 [00:01<00:00, 158.31it/s]\n"
     ]
    },
    {
     "name": "stdout",
     "output_type": "stream",
     "text": [
      "Epoch: 14 | Train Loss 0.0010804171749174913  | Train Precision: 0.885192800254607 | Train Recall: 0.8567141773413678 | Train F1: 0.8560462077124996\n"
     ]
    },
    {
     "name": "stderr",
     "output_type": "stream",
     "text": [
      "  0%|          | 0/271 [00:00<?, ?it/s]C:\\Users\\Alex\\AppData\\Local\\Temp\\ipykernel_8184\\1227666216.py:12: DeprecationWarning: In future, it will be an error for 'np.bool_' scalars to be interpreted as an index\n",
      "  return torch.tensor(self.x_titles[item]), torch.tensor(self.x_contents[item]), torch.tensor(self.y[item])\n",
      "100%|██████████| 271/271 [00:03<00:00, 88.45it/s]\n"
     ]
    },
    {
     "name": "stdout",
     "output_type": "stream",
     "text": [
      "Epoch: 15 | Train Loss 0.001074195297827629  | Train Precision: 0.8878523764657229 | Train Recall: 0.859244309956596 | Train F1: 0.8590978305571113\n"
     ]
    },
    {
     "name": "stderr",
     "output_type": "stream",
     "text": [
      "  0%|          | 0/271 [00:00<?, ?it/s]C:\\Users\\Alex\\AppData\\Local\\Temp\\ipykernel_8184\\1227666216.py:12: DeprecationWarning: In future, it will be an error for 'np.bool_' scalars to be interpreted as an index\n",
      "  return torch.tensor(self.x_titles[item]), torch.tensor(self.x_contents[item]), torch.tensor(self.y[item])\n",
      "100%|██████████| 271/271 [00:03<00:00, 81.16it/s]\n"
     ]
    },
    {
     "name": "stdout",
     "output_type": "stream",
     "text": [
      "Epoch: 16 | Train Loss 0.0010739314292049524  | Train Precision: 0.8851669990883253 | Train Recall: 0.8566686784250195 | Train F1: 0.8558172898334577\n"
     ]
    },
    {
     "name": "stderr",
     "output_type": "stream",
     "text": [
      "  0%|          | 0/271 [00:00<?, ?it/s]C:\\Users\\Alex\\AppData\\Local\\Temp\\ipykernel_8184\\1227666216.py:12: DeprecationWarning: In future, it will be an error for 'np.bool_' scalars to be interpreted as an index\n",
      "  return torch.tensor(self.x_titles[item]), torch.tensor(self.x_contents[item]), torch.tensor(self.y[item])\n",
      "100%|██████████| 271/271 [00:03<00:00, 90.20it/s]\n"
     ]
    },
    {
     "name": "stdout",
     "output_type": "stream",
     "text": [
      "Epoch: 17 | Train Loss 0.0010591683636861967  | Train Precision: 0.8876335510812736 | Train Recall: 0.8590313212936034 | Train F1: 0.8588156465851244\n"
     ]
    },
    {
     "name": "stderr",
     "output_type": "stream",
     "text": [
      "  0%|          | 0/271 [00:00<?, ?it/s]C:\\Users\\Alex\\AppData\\Local\\Temp\\ipykernel_8184\\1227666216.py:12: DeprecationWarning: In future, it will be an error for 'np.bool_' scalars to be interpreted as an index\n",
      "  return torch.tensor(self.x_titles[item]), torch.tensor(self.x_contents[item]), torch.tensor(self.y[item])\n",
      "100%|██████████| 271/271 [00:03<00:00, 82.43it/s]\n"
     ]
    },
    {
     "name": "stdout",
     "output_type": "stream",
     "text": [
      "Epoch: 18 | Train Loss 0.0010706315893016874  | Train Precision: 0.8873547806074953 | Train Recall: 0.8587315992538571 | Train F1: 0.8582241188317241\n"
     ]
    },
    {
     "name": "stderr",
     "output_type": "stream",
     "text": [
      "  0%|          | 0/271 [00:00<?, ?it/s]C:\\Users\\Alex\\AppData\\Local\\Temp\\ipykernel_8184\\1227666216.py:12: DeprecationWarning: In future, it will be an error for 'np.bool_' scalars to be interpreted as an index\n",
      "  return torch.tensor(self.x_titles[item]), torch.tensor(self.x_contents[item]), torch.tensor(self.y[item])\n",
      "100%|██████████| 271/271 [00:03<00:00, 87.93it/s]\n"
     ]
    },
    {
     "name": "stdout",
     "output_type": "stream",
     "text": [
      "Epoch: 19 | Train Loss 0.001057312568639735  | Train Precision: 0.8882724400091087 | Train Recall: 0.8595909141639737 | Train F1: 0.8591707699861048\n"
     ]
    },
    {
     "name": "stderr",
     "output_type": "stream",
     "text": [
      "  0%|          | 0/271 [00:00<?, ?it/s]C:\\Users\\Alex\\AppData\\Local\\Temp\\ipykernel_8184\\1227666216.py:12: DeprecationWarning: In future, it will be an error for 'np.bool_' scalars to be interpreted as an index\n",
      "  return torch.tensor(self.x_titles[item]), torch.tensor(self.x_contents[item]), torch.tensor(self.y[item])\n",
      "100%|██████████| 271/271 [00:03<00:00, 83.43it/s]\n"
     ]
    },
    {
     "name": "stdout",
     "output_type": "stream",
     "text": [
      "Epoch: 20 | Train Loss 0.0010401723248803472  | Train Precision: 0.8889800891083621 | Train Recall: 0.8602798953480877 | Train F1: 0.8601001343898773\n"
     ]
    },
    {
     "name": "stderr",
     "output_type": "stream",
     "text": [
      "  0%|          | 0/271 [00:00<?, ?it/s]C:\\Users\\Alex\\AppData\\Local\\Temp\\ipykernel_8184\\1227666216.py:12: DeprecationWarning: In future, it will be an error for 'np.bool_' scalars to be interpreted as an index\n",
      "  return torch.tensor(self.x_titles[item]), torch.tensor(self.x_contents[item]), torch.tensor(self.y[item])\n",
      "100%|██████████| 271/271 [00:03<00:00, 87.44it/s]\n"
     ]
    },
    {
     "name": "stdout",
     "output_type": "stream",
     "text": [
      "Epoch: 21 | Train Loss 0.0010461060752071831  | Train Precision: 0.8877153284482096 | Train Recall: 0.8590427162229737 | Train F1: 0.8583635195858258\n"
     ]
    },
    {
     "name": "stderr",
     "output_type": "stream",
     "text": [
      "  0%|          | 0/271 [00:00<?, ?it/s]C:\\Users\\Alex\\AppData\\Local\\Temp\\ipykernel_8184\\1227666216.py:12: DeprecationWarning: In future, it will be an error for 'np.bool_' scalars to be interpreted as an index\n",
      "  return torch.tensor(self.x_titles[item]), torch.tensor(self.x_contents[item]), torch.tensor(self.y[item])\n",
      "100%|██████████| 271/271 [00:03<00:00, 85.39it/s]\n"
     ]
    },
    {
     "name": "stdout",
     "output_type": "stream",
     "text": [
      "Epoch: 22 | Train Loss 0.001045526303411275  | Train Precision: 0.8882411915080919 | Train Recall: 0.8595619739769065 | Train F1: 0.8591412088546997\n"
     ]
    },
    {
     "name": "stderr",
     "output_type": "stream",
     "text": [
      "  0%|          | 0/271 [00:00<?, ?it/s]C:\\Users\\Alex\\AppData\\Local\\Temp\\ipykernel_8184\\1227666216.py:12: DeprecationWarning: In future, it will be an error for 'np.bool_' scalars to be interpreted as an index\n",
      "  return torch.tensor(self.x_titles[item]), torch.tensor(self.x_contents[item]), torch.tensor(self.y[item])\n",
      "100%|██████████| 271/271 [00:03<00:00, 88.33it/s]\n"
     ]
    },
    {
     "name": "stdout",
     "output_type": "stream",
     "text": [
      "Epoch: 23 | Train Loss 0.0010356365129079181  | Train Precision: 0.888513784689817 | Train Recall: 0.8598017405237591 | Train F1: 0.8592930683056818\n"
     ]
    },
    {
     "name": "stderr",
     "output_type": "stream",
     "text": [
      "  0%|          | 0/271 [00:00<?, ?it/s]C:\\Users\\Alex\\AppData\\Local\\Temp\\ipykernel_8184\\1227666216.py:12: DeprecationWarning: In future, it will be an error for 'np.bool_' scalars to be interpreted as an index\n",
      "  return torch.tensor(self.x_titles[item]), torch.tensor(self.x_contents[item]), torch.tensor(self.y[item])\n",
      "100%|██████████| 271/271 [00:03<00:00, 87.48it/s]\n"
     ]
    },
    {
     "name": "stdout",
     "output_type": "stream",
     "text": [
      "Epoch: 24 | Train Loss 0.0010289543150331212  | Train Precision: 0.8898661994382984 | Train Recall: 0.8610763336248204 | Train F1: 0.8607538088127382\n"
     ]
    },
    {
     "name": "stderr",
     "output_type": "stream",
     "text": [
      "  0%|          | 0/271 [00:00<?, ?it/s]C:\\Users\\Alex\\AppData\\Local\\Temp\\ipykernel_8184\\1227666216.py:12: DeprecationWarning: In future, it will be an error for 'np.bool_' scalars to be interpreted as an index\n",
      "  return torch.tensor(self.x_titles[item]), torch.tensor(self.x_contents[item]), torch.tensor(self.y[item])\n",
      "100%|██████████| 271/271 [00:03<00:00, 79.79it/s]\n"
     ]
    },
    {
     "name": "stdout",
     "output_type": "stream",
     "text": [
      "Epoch: 25 | Train Loss 0.0010287373164421677  | Train Precision: 0.8896133160081331 | Train Recall: 0.8608361187833506 | Train F1: 0.860466630519504\n"
     ]
    },
    {
     "name": "stderr",
     "output_type": "stream",
     "text": [
      "  0%|          | 0/271 [00:00<?, ?it/s]C:\\Users\\Alex\\AppData\\Local\\Temp\\ipykernel_8184\\1227666216.py:12: DeprecationWarning: In future, it will be an error for 'np.bool_' scalars to be interpreted as an index\n",
      "  return torch.tensor(self.x_titles[item]), torch.tensor(self.x_contents[item]), torch.tensor(self.y[item])\n",
      "100%|██████████| 271/271 [00:03<00:00, 85.84it/s]\n"
     ]
    },
    {
     "name": "stdout",
     "output_type": "stream",
     "text": [
      "Epoch: 26 | Train Loss 0.00102253062243202  | Train Precision: 0.8906589077745104 | Train Recall: 0.8618256236971391 | Train F1: 0.8616203002624268\n"
     ]
    },
    {
     "name": "stderr",
     "output_type": "stream",
     "text": [
      "  0%|          | 0/271 [00:00<?, ?it/s]C:\\Users\\Alex\\AppData\\Local\\Temp\\ipykernel_8184\\1227666216.py:12: DeprecationWarning: In future, it will be an error for 'np.bool_' scalars to be interpreted as an index\n",
      "  return torch.tensor(self.x_titles[item]), torch.tensor(self.x_contents[item]), torch.tensor(self.y[item])\n",
      "100%|██████████| 271/271 [00:03<00:00, 81.74it/s]\n"
     ]
    },
    {
     "name": "stdout",
     "output_type": "stream",
     "text": [
      "Epoch: 27 | Train Loss 0.0010267011459172807  | Train Precision: 0.8894541780810183 | Train Recall: 0.8606828502352809 | Train F1: 0.8602681564269505\n"
     ]
    },
    {
     "name": "stderr",
     "output_type": "stream",
     "text": [
      "  0%|          | 0/271 [00:00<?, ?it/s]C:\\Users\\Alex\\AppData\\Local\\Temp\\ipykernel_8184\\1227666216.py:12: DeprecationWarning: In future, it will be an error for 'np.bool_' scalars to be interpreted as an index\n",
      "  return torch.tensor(self.x_titles[item]), torch.tensor(self.x_contents[item]), torch.tensor(self.y[item])\n",
      "100%|██████████| 271/271 [00:03<00:00, 85.42it/s]\n"
     ]
    },
    {
     "name": "stdout",
     "output_type": "stream",
     "text": [
      "Epoch: 28 | Train Loss 0.0010250390390245845  | Train Precision: 0.8908350747244831 | Train Recall: 0.8619933708963279 | Train F1: 0.8618212653529286\n"
     ]
    },
    {
     "name": "stderr",
     "output_type": "stream",
     "text": [
      "  0%|          | 0/271 [00:00<?, ?it/s]C:\\Users\\Alex\\AppData\\Local\\Temp\\ipykernel_8184\\1227666216.py:12: DeprecationWarning: In future, it will be an error for 'np.bool_' scalars to be interpreted as an index\n",
      "  return torch.tensor(self.x_titles[item]), torch.tensor(self.x_contents[item]), torch.tensor(self.y[item])\n",
      "100%|██████████| 271/271 [00:03<00:00, 81.42it/s]\n"
     ]
    },
    {
     "name": "stdout",
     "output_type": "stream",
     "text": [
      "Epoch: 29 | Train Loss 0.0010191929151382305  | Train Precision: 0.8916137353371993 | Train Recall: 0.862750440454691 | Train F1: 0.8628118391218487\n"
     ]
    },
    {
     "name": "stderr",
     "output_type": "stream",
     "text": [
      "  0%|          | 0/271 [00:00<?, ?it/s]C:\\Users\\Alex\\AppData\\Local\\Temp\\ipykernel_8184\\1227666216.py:12: DeprecationWarning: In future, it will be an error for 'np.bool_' scalars to be interpreted as an index\n",
      "  return torch.tensor(self.x_titles[item]), torch.tensor(self.x_contents[item]), torch.tensor(self.y[item])\n",
      "100%|██████████| 271/271 [00:03<00:00, 86.59it/s]\n"
     ]
    },
    {
     "name": "stdout",
     "output_type": "stream",
     "text": [
      "Epoch: 30 | Train Loss 0.0010150435411459013  | Train Precision: 0.8905110939035237 | Train Recall: 0.8616779780115438 | Train F1: 0.861398205189251\n"
     ]
    },
    {
     "name": "stderr",
     "output_type": "stream",
     "text": [
      "  0%|          | 0/271 [00:00<?, ?it/s]C:\\Users\\Alex\\AppData\\Local\\Temp\\ipykernel_8184\\1227666216.py:12: DeprecationWarning: In future, it will be an error for 'np.bool_' scalars to be interpreted as an index\n",
      "  return torch.tensor(self.x_titles[item]), torch.tensor(self.x_contents[item]), torch.tensor(self.y[item])\n",
      "100%|██████████| 271/271 [00:03<00:00, 81.59it/s]\n"
     ]
    },
    {
     "name": "stdout",
     "output_type": "stream",
     "text": [
      "Epoch: 31 | Train Loss 0.0010153695369159573  | Train Precision: 0.8899312912917023 | Train Recall: 0.8611105057535012 | Train F1: 0.86059959016918\n"
     ]
    },
    {
     "name": "stderr",
     "output_type": "stream",
     "text": [
      "  0%|          | 0/271 [00:00<?, ?it/s]C:\\Users\\Alex\\AppData\\Local\\Temp\\ipykernel_8184\\1227666216.py:12: DeprecationWarning: In future, it will be an error for 'np.bool_' scalars to be interpreted as an index\n",
      "  return torch.tensor(self.x_titles[item]), torch.tensor(self.x_contents[item]), torch.tensor(self.y[item])\n",
      "100%|██████████| 271/271 [00:03<00:00, 84.91it/s]\n"
     ]
    },
    {
     "name": "stdout",
     "output_type": "stream",
     "text": [
      "Epoch: 32 | Train Loss 0.0010066781761165682  | Train Precision: 0.8903205357207289 | Train Recall: 0.8614769855202473 | Train F1: 0.86101916677396\n"
     ]
    },
    {
     "name": "stderr",
     "output_type": "stream",
     "text": [
      "  0%|          | 0/271 [00:00<?, ?it/s]C:\\Users\\Alex\\AppData\\Local\\Temp\\ipykernel_8184\\1227666216.py:12: DeprecationWarning: In future, it will be an error for 'np.bool_' scalars to be interpreted as an index\n",
      "  return torch.tensor(self.x_titles[item]), torch.tensor(self.x_contents[item]), torch.tensor(self.y[item])\n",
      "100%|██████████| 271/271 [00:03<00:00, 81.69it/s]\n"
     ]
    },
    {
     "name": "stdout",
     "output_type": "stream",
     "text": [
      "Epoch: 33 | Train Loss 0.0010097546083087502  | Train Precision: 0.8898515505734819 | Train Recall: 0.8610172839264754 | Train F1: 0.8603494013214255\n"
     ]
    },
    {
     "name": "stderr",
     "output_type": "stream",
     "text": [
      "  0%|          | 0/271 [00:00<?, ?it/s]C:\\Users\\Alex\\AppData\\Local\\Temp\\ipykernel_8184\\1227666216.py:12: DeprecationWarning: In future, it will be an error for 'np.bool_' scalars to be interpreted as an index\n",
      "  return torch.tensor(self.x_titles[item]), torch.tensor(self.x_contents[item]), torch.tensor(self.y[item])\n",
      "100%|██████████| 271/271 [00:03<00:00, 87.03it/s]\n"
     ]
    },
    {
     "name": "stdout",
     "output_type": "stream",
     "text": [
      "Epoch: 34 | Train Loss 0.001003507159183048  | Train Precision: 0.892176079539505 | Train Recall: 0.86325490636207 | Train F1: 0.8632309264984049\n"
     ]
    },
    {
     "name": "stderr",
     "output_type": "stream",
     "text": [
      "  0%|          | 0/271 [00:00<?, ?it/s]C:\\Users\\Alex\\AppData\\Local\\Temp\\ipykernel_8184\\1227666216.py:12: DeprecationWarning: In future, it will be an error for 'np.bool_' scalars to be interpreted as an index\n",
      "  return torch.tensor(self.x_titles[item]), torch.tensor(self.x_contents[item]), torch.tensor(self.y[item])\n",
      "100%|██████████| 271/271 [00:03<00:00, 82.47it/s]\n"
     ]
    },
    {
     "name": "stdout",
     "output_type": "stream",
     "text": [
      "Epoch: 35 | Train Loss 0.0010053924983421207  | Train Precision: 0.891397375988123 | Train Recall: 0.8624944396713038 | Train F1: 0.8622024422242406\n"
     ]
    },
    {
     "name": "stderr",
     "output_type": "stream",
     "text": [
      "  0%|          | 0/271 [00:00<?, ?it/s]C:\\Users\\Alex\\AppData\\Local\\Temp\\ipykernel_8184\\1227666216.py:12: DeprecationWarning: In future, it will be an error for 'np.bool_' scalars to be interpreted as an index\n",
      "  return torch.tensor(self.x_titles[item]), torch.tensor(self.x_contents[item]), torch.tensor(self.y[item])\n",
      "100%|██████████| 271/271 [00:03<00:00, 85.78it/s]\n"
     ]
    },
    {
     "name": "stdout",
     "output_type": "stream",
     "text": [
      "Epoch: 36 | Train Loss 0.0010154832575234845  | Train Precision: 0.889192221936769 | Train Recall: 0.8603830528833964 | Train F1: 0.8594895303219128\n"
     ]
    },
    {
     "name": "stderr",
     "output_type": "stream",
     "text": [
      "  0%|          | 0/271 [00:00<?, ?it/s]C:\\Users\\Alex\\AppData\\Local\\Temp\\ipykernel_8184\\1227666216.py:12: DeprecationWarning: In future, it will be an error for 'np.bool_' scalars to be interpreted as an index\n",
      "  return torch.tensor(self.x_titles[item]), torch.tensor(self.x_contents[item]), torch.tensor(self.y[item])\n",
      "100%|██████████| 271/271 [00:03<00:00, 81.17it/s]\n"
     ]
    },
    {
     "name": "stdout",
     "output_type": "stream",
     "text": [
      "Epoch: 37 | Train Loss 0.0009882238550636261  | Train Precision: 0.8932756537964868 | Train Recall: 0.8642986180980012 | Train F1: 0.8644433644736466\n"
     ]
    },
    {
     "name": "stderr",
     "output_type": "stream",
     "text": [
      "  0%|          | 0/271 [00:00<?, ?it/s]C:\\Users\\Alex\\AppData\\Local\\Temp\\ipykernel_8184\\1227666216.py:12: DeprecationWarning: In future, it will be an error for 'np.bool_' scalars to be interpreted as an index\n",
      "  return torch.tensor(self.x_titles[item]), torch.tensor(self.x_contents[item]), torch.tensor(self.y[item])\n",
      "100%|██████████| 271/271 [00:03<00:00, 85.65it/s]\n"
     ]
    },
    {
     "name": "stdout",
     "output_type": "stream",
     "text": [
      "Epoch: 38 | Train Loss 0.000979183746505683  | Train Precision: 0.89313354489223 | Train Recall: 0.8641577258359212 | Train F1: 0.8642470240868108\n"
     ]
    },
    {
     "name": "stderr",
     "output_type": "stream",
     "text": [
      "  0%|          | 0/271 [00:00<?, ?it/s]C:\\Users\\Alex\\AppData\\Local\\Temp\\ipykernel_8184\\1227666216.py:12: DeprecationWarning: In future, it will be an error for 'np.bool_' scalars to be interpreted as an index\n",
      "  return torch.tensor(self.x_titles[item]), torch.tensor(self.x_contents[item]), torch.tensor(self.y[item])\n",
      "100%|██████████| 271/271 [00:03<00:00, 82.24it/s]\n"
     ]
    },
    {
     "name": "stdout",
     "output_type": "stream",
     "text": [
      "Epoch: 39 | Train Loss 0.000999282267452445  | Train Precision: 0.8908344735831624 | Train Recall: 0.8619289742171959 | Train F1: 0.8612926059413313\n"
     ]
    },
    {
     "name": "stderr",
     "output_type": "stream",
     "text": [
      "  0%|          | 0/271 [00:00<?, ?it/s]C:\\Users\\Alex\\AppData\\Local\\Temp\\ipykernel_8184\\1227666216.py:12: DeprecationWarning: In future, it will be an error for 'np.bool_' scalars to be interpreted as an index\n",
      "  return torch.tensor(self.x_titles[item]), torch.tensor(self.x_contents[item]), torch.tensor(self.y[item])\n",
      "100%|██████████| 271/271 [00:03<00:00, 85.96it/s]\n"
     ]
    },
    {
     "name": "stdout",
     "output_type": "stream",
     "text": [
      "Epoch: 40 | Train Loss 0.000990843628394165  | Train Precision: 0.8916813361646421 | Train Recall: 0.862744638981059 | Train F1: 0.8623681318490324\n"
     ]
    },
    {
     "name": "stderr",
     "output_type": "stream",
     "text": [
      "  0%|          | 0/271 [00:00<?, ?it/s]C:\\Users\\Alex\\AppData\\Local\\Temp\\ipykernel_8184\\1227666216.py:12: DeprecationWarning: In future, it will be an error for 'np.bool_' scalars to be interpreted as an index\n",
      "  return torch.tensor(self.x_titles[item]), torch.tensor(self.x_contents[item]), torch.tensor(self.y[item])\n",
      "100%|██████████| 271/271 [00:03<00:00, 82.69it/s]\n"
     ]
    },
    {
     "name": "stdout",
     "output_type": "stream",
     "text": [
      "Epoch: 41 | Train Loss 0.0010012496438233478  | Train Precision: 0.8908257443784046 | Train Recall: 0.8619022489414858 | Train F1: 0.8611024444957187\n"
     ]
    },
    {
     "name": "stderr",
     "output_type": "stream",
     "text": [
      "  0%|          | 0/271 [00:00<?, ?it/s]C:\\Users\\Alex\\AppData\\Local\\Temp\\ipykernel_8184\\1227666216.py:12: DeprecationWarning: In future, it will be an error for 'np.bool_' scalars to be interpreted as an index\n",
      "  return torch.tensor(self.x_titles[item]), torch.tensor(self.x_contents[item]), torch.tensor(self.y[item])\n",
      "100%|██████████| 271/271 [00:03<00:00, 82.08it/s]\n"
     ]
    },
    {
     "name": "stdout",
     "output_type": "stream",
     "text": [
      "Epoch: 42 | Train Loss 0.000994246275231218  | Train Precision: 0.8919567818297321 | Train Recall: 0.86298828223996 | Train F1: 0.8625325411452631\n"
     ]
    },
    {
     "name": "stderr",
     "output_type": "stream",
     "text": [
      "  0%|          | 0/271 [00:00<?, ?it/s]C:\\Users\\Alex\\AppData\\Local\\Temp\\ipykernel_8184\\1227666216.py:12: DeprecationWarning: In future, it will be an error for 'np.bool_' scalars to be interpreted as an index\n",
      "  return torch.tensor(self.x_titles[item]), torch.tensor(self.x_contents[item]), torch.tensor(self.y[item])\n",
      "100%|██████████| 271/271 [00:03<00:00, 86.45it/s]\n"
     ]
    },
    {
     "name": "stdout",
     "output_type": "stream",
     "text": [
      "Epoch: 43 | Train Loss 0.0009923029390957532  | Train Precision: 0.8911553872274282 | Train Recall: 0.8622174936925999 | Train F1: 0.8615136813269927\n"
     ]
    },
    {
     "name": "stderr",
     "output_type": "stream",
     "text": [
      "  0%|          | 0/271 [00:00<?, ?it/s]C:\\Users\\Alex\\AppData\\Local\\Temp\\ipykernel_8184\\1227666216.py:12: DeprecationWarning: In future, it will be an error for 'np.bool_' scalars to be interpreted as an index\n",
      "  return torch.tensor(self.x_titles[item]), torch.tensor(self.x_contents[item]), torch.tensor(self.y[item])\n",
      "100%|██████████| 271/271 [00:03<00:00, 81.73it/s]\n"
     ]
    },
    {
     "name": "stdout",
     "output_type": "stream",
     "text": [
      "Epoch: 44 | Train Loss 0.00098856538404844  | Train Precision: 0.8921840787869446 | Train Recall: 0.8632024116526038 | Train F1: 0.8627784484017398\n"
     ]
    },
    {
     "name": "stderr",
     "output_type": "stream",
     "text": [
      "  0%|          | 0/271 [00:00<?, ?it/s]C:\\Users\\Alex\\AppData\\Local\\Temp\\ipykernel_8184\\1227666216.py:12: DeprecationWarning: In future, it will be an error for 'np.bool_' scalars to be interpreted as an index\n",
      "  return torch.tensor(self.x_titles[item]), torch.tensor(self.x_contents[item]), torch.tensor(self.y[item])\n",
      "100%|██████████| 271/271 [00:03<00:00, 85.00it/s]\n"
     ]
    },
    {
     "name": "stdout",
     "output_type": "stream",
     "text": [
      "Epoch: 45 | Train Loss 0.0009930016689762918  | Train Precision: 0.8923178019957698 | Train Recall: 0.8633486461262649 | Train F1: 0.8630869864510582\n"
     ]
    },
    {
     "name": "stderr",
     "output_type": "stream",
     "text": [
      "  0%|          | 0/271 [00:00<?, ?it/s]C:\\Users\\Alex\\AppData\\Local\\Temp\\ipykernel_8184\\1227666216.py:12: DeprecationWarning: In future, it will be an error for 'np.bool_' scalars to be interpreted as an index\n",
      "  return torch.tensor(self.x_titles[item]), torch.tensor(self.x_contents[item]), torch.tensor(self.y[item])\n",
      "100%|██████████| 271/271 [00:03<00:00, 81.40it/s]\n"
     ]
    },
    {
     "name": "stdout",
     "output_type": "stream",
     "text": [
      "Epoch: 46 | Train Loss 0.0009929856935934566  | Train Precision: 0.8912404894030523 | Train Recall: 0.8622856294880394 | Train F1: 0.8614876871196082\n"
     ]
    },
    {
     "name": "stderr",
     "output_type": "stream",
     "text": [
      "  0%|          | 0/271 [00:00<?, ?it/s]C:\\Users\\Alex\\AppData\\Local\\Temp\\ipykernel_8184\\1227666216.py:12: DeprecationWarning: In future, it will be an error for 'np.bool_' scalars to be interpreted as an index\n",
      "  return torch.tensor(self.x_titles[item]), torch.tensor(self.x_contents[item]), torch.tensor(self.y[item])\n",
      "100%|██████████| 271/271 [00:03<00:00, 85.17it/s]\n"
     ]
    },
    {
     "name": "stdout",
     "output_type": "stream",
     "text": [
      "Epoch: 47 | Train Loss 0.0009929090830976144  | Train Precision: 0.8905898470324314 | Train Recall: 0.8616743361659187 | Train F1: 0.8607798781814628\n"
     ]
    },
    {
     "name": "stderr",
     "output_type": "stream",
     "text": [
      "  0%|          | 0/271 [00:00<?, ?it/s]C:\\Users\\Alex\\AppData\\Local\\Temp\\ipykernel_8184\\1227666216.py:12: DeprecationWarning: In future, it will be an error for 'np.bool_' scalars to be interpreted as an index\n",
      "  return torch.tensor(self.x_titles[item]), torch.tensor(self.x_contents[item]), torch.tensor(self.y[item])\n",
      "100%|██████████| 271/271 [00:03<00:00, 79.75it/s]\n"
     ]
    },
    {
     "name": "stdout",
     "output_type": "stream",
     "text": [
      "Epoch: 48 | Train Loss 0.0009783181331463778  | Train Precision: 0.8930848809203633 | Train Recall: 0.8640670934144776 | Train F1: 0.8638745927691323\n"
     ]
    },
    {
     "name": "stderr",
     "output_type": "stream",
     "text": [
      "  0%|          | 0/271 [00:00<?, ?it/s]C:\\Users\\Alex\\AppData\\Local\\Temp\\ipykernel_8184\\1227666216.py:12: DeprecationWarning: In future, it will be an error for 'np.bool_' scalars to be interpreted as an index\n",
      "  return torch.tensor(self.x_titles[item]), torch.tensor(self.x_contents[item]), torch.tensor(self.y[item])\n",
      "100%|██████████| 271/271 [00:03<00:00, 85.70it/s]\n"
     ]
    },
    {
     "name": "stdout",
     "output_type": "stream",
     "text": [
      "Epoch: 49 | Train Loss 0.0009883852866089226  | Train Precision: 0.892331592087271 | Train Recall: 0.8633183414723831 | Train F1: 0.8627358451391479\n"
     ]
    },
    {
     "name": "stderr",
     "output_type": "stream",
     "text": [
      "  0%|          | 0/271 [00:00<?, ?it/s]C:\\Users\\Alex\\AppData\\Local\\Temp\\ipykernel_8184\\1227666216.py:12: DeprecationWarning: In future, it will be an error for 'np.bool_' scalars to be interpreted as an index\n",
      "  return torch.tensor(self.x_titles[item]), torch.tensor(self.x_contents[item]), torch.tensor(self.y[item])\n",
      "100%|██████████| 271/271 [00:03<00:00, 80.53it/s]\n"
     ]
    },
    {
     "name": "stdout",
     "output_type": "stream",
     "text": [
      "Epoch: 50 | Train Loss 0.0009745823961286682  | Train Precision: 0.8928998559496353 | Train Recall: 0.8638553106739795 | Train F1: 0.8633695354413966\n"
     ]
    },
    {
     "name": "stderr",
     "output_type": "stream",
     "text": [
      "  0%|          | 0/271 [00:00<?, ?it/s]C:\\Users\\Alex\\AppData\\Local\\Temp\\ipykernel_8184\\1227666216.py:12: DeprecationWarning: In future, it will be an error for 'np.bool_' scalars to be interpreted as an index\n",
      "  return torch.tensor(self.x_titles[item]), torch.tensor(self.x_contents[item]), torch.tensor(self.y[item])\n",
      "100%|██████████| 271/271 [00:03<00:00, 85.05it/s]\n"
     ]
    },
    {
     "name": "stdout",
     "output_type": "stream",
     "text": [
      "Epoch: 51 | Train Loss 0.0009792749525354544  | Train Precision: 0.8935135877911753 | Train Recall: 0.864436540639014 | Train F1: 0.8640601025889052\n"
     ]
    },
    {
     "name": "stderr",
     "output_type": "stream",
     "text": [
      "  0%|          | 0/271 [00:00<?, ?it/s]C:\\Users\\Alex\\AppData\\Local\\Temp\\ipykernel_8184\\1227666216.py:12: DeprecationWarning: In future, it will be an error for 'np.bool_' scalars to be interpreted as an index\n",
      "  return torch.tensor(self.x_titles[item]), torch.tensor(self.x_contents[item]), torch.tensor(self.y[item])\n",
      "100%|██████████| 271/271 [00:03<00:00, 81.03it/s]\n"
     ]
    },
    {
     "name": "stdout",
     "output_type": "stream",
     "text": [
      "Epoch: 52 | Train Loss 0.0009715853013689665  | Train Precision: 0.8934709722953644 | Train Recall: 0.8643966625058698 | Train F1: 0.8640163515466713\n"
     ]
    },
    {
     "name": "stderr",
     "output_type": "stream",
     "text": [
      "  0%|          | 0/271 [00:00<?, ?it/s]C:\\Users\\Alex\\AppData\\Local\\Temp\\ipykernel_8184\\1227666216.py:12: DeprecationWarning: In future, it will be an error for 'np.bool_' scalars to be interpreted as an index\n",
      "  return torch.tensor(self.x_titles[item]), torch.tensor(self.x_contents[item]), torch.tensor(self.y[item])\n",
      "100%|██████████| 271/271 [00:03<00:00, 85.38it/s]\n"
     ]
    },
    {
     "name": "stdout",
     "output_type": "stream",
     "text": [
      "Epoch: 53 | Train Loss 0.0009679624578469166  | Train Precision: 0.8934169468660941 | Train Recall: 0.8643413355345511 | Train F1: 0.8639205257308674\n"
     ]
    },
    {
     "name": "stderr",
     "output_type": "stream",
     "text": [
      "  0%|          | 0/271 [00:00<?, ?it/s]C:\\Users\\Alex\\AppData\\Local\\Temp\\ipykernel_8184\\1227666216.py:12: DeprecationWarning: In future, it will be an error for 'np.bool_' scalars to be interpreted as an index\n",
      "  return torch.tensor(self.x_titles[item]), torch.tensor(self.x_contents[item]), torch.tensor(self.y[item])\n",
      "100%|██████████| 271/271 [00:03<00:00, 80.83it/s]\n"
     ]
    },
    {
     "name": "stdout",
     "output_type": "stream",
     "text": [
      "Epoch: 54 | Train Loss 0.000972244240864301  | Train Precision: 0.8927038074934395 | Train Recall: 0.8636702558200193 | Train F1: 0.8631531719261369\n"
     ]
    },
    {
     "name": "stderr",
     "output_type": "stream",
     "text": [
      "  0%|          | 0/271 [00:00<?, ?it/s]C:\\Users\\Alex\\AppData\\Local\\Temp\\ipykernel_8184\\1227666216.py:12: DeprecationWarning: In future, it will be an error for 'np.bool_' scalars to be interpreted as an index\n",
      "  return torch.tensor(self.x_titles[item]), torch.tensor(self.x_contents[item]), torch.tensor(self.y[item])\n",
      "100%|██████████| 271/271 [00:03<00:00, 80.95it/s]\n"
     ]
    },
    {
     "name": "stdout",
     "output_type": "stream",
     "text": [
      "Epoch: 55 | Train Loss 0.0009716600274507218  | Train Precision: 0.8934424474617153 | Train Recall: 0.86435818446732 | Train F1: 0.8638861537323106\n"
     ]
    },
    {
     "name": "stderr",
     "output_type": "stream",
     "text": [
      "  0%|          | 0/271 [00:00<?, ?it/s]C:\\Users\\Alex\\AppData\\Local\\Temp\\ipykernel_8184\\1227666216.py:12: DeprecationWarning: In future, it will be an error for 'np.bool_' scalars to be interpreted as an index\n",
      "  return torch.tensor(self.x_titles[item]), torch.tensor(self.x_contents[item]), torch.tensor(self.y[item])\n",
      "100%|██████████| 271/271 [00:03<00:00, 87.31it/s]\n"
     ]
    },
    {
     "name": "stdout",
     "output_type": "stream",
     "text": [
      "Epoch: 56 | Train Loss 0.0009662442193171529  | Train Precision: 0.8932406940387897 | Train Recall: 0.8641655238585995 | Train F1: 0.8636437314548279\n"
     ]
    },
    {
     "name": "stderr",
     "output_type": "stream",
     "text": [
      "  0%|          | 0/271 [00:00<?, ?it/s]C:\\Users\\Alex\\AppData\\Local\\Temp\\ipykernel_8184\\1227666216.py:12: DeprecationWarning: In future, it will be an error for 'np.bool_' scalars to be interpreted as an index\n",
      "  return torch.tensor(self.x_titles[item]), torch.tensor(self.x_contents[item]), torch.tensor(self.y[item])\n",
      "100%|██████████| 271/271 [00:03<00:00, 78.95it/s]\n"
     ]
    },
    {
     "name": "stdout",
     "output_type": "stream",
     "text": [
      "Epoch: 57 | Train Loss 0.0009702353841058084  | Train Precision: 0.894633215309043 | Train Recall: 0.8655145028688245 | Train F1: 0.8654394386397757\n"
     ]
    },
    {
     "name": "stderr",
     "output_type": "stream",
     "text": [
      "  0%|          | 0/271 [00:00<?, ?it/s]C:\\Users\\Alex\\AppData\\Local\\Temp\\ipykernel_8184\\1227666216.py:12: DeprecationWarning: In future, it will be an error for 'np.bool_' scalars to be interpreted as an index\n",
      "  return torch.tensor(self.x_titles[item]), torch.tensor(self.x_contents[item]), torch.tensor(self.y[item])\n",
      "100%|██████████| 271/271 [00:03<00:00, 86.48it/s]\n"
     ]
    },
    {
     "name": "stdout",
     "output_type": "stream",
     "text": [
      "Epoch: 58 | Train Loss 0.0009610138105448819  | Train Precision: 0.8941413673562109 | Train Recall: 0.8650146523227946 | Train F1: 0.8646263874691109\n"
     ]
    },
    {
     "name": "stderr",
     "output_type": "stream",
     "text": [
      "  0%|          | 0/271 [00:00<?, ?it/s]C:\\Users\\Alex\\AppData\\Local\\Temp\\ipykernel_8184\\1227666216.py:12: DeprecationWarning: In future, it will be an error for 'np.bool_' scalars to be interpreted as an index\n",
      "  return torch.tensor(self.x_titles[item]), torch.tensor(self.x_contents[item]), torch.tensor(self.y[item])\n",
      "100%|██████████| 271/271 [00:03<00:00, 81.35it/s]\n"
     ]
    },
    {
     "name": "stdout",
     "output_type": "stream",
     "text": [
      "Epoch: 59 | Train Loss 0.0009482321520162467  | Train Precision: 0.8955026401254476 | Train Recall: 0.8663381214187572 | Train F1: 0.8663931024582952\n"
     ]
    },
    {
     "name": "stderr",
     "output_type": "stream",
     "text": [
      "  0%|          | 0/271 [00:00<?, ?it/s]C:\\Users\\Alex\\AppData\\Local\\Temp\\ipykernel_8184\\1227666216.py:12: DeprecationWarning: In future, it will be an error for 'np.bool_' scalars to be interpreted as an index\n",
      "  return torch.tensor(self.x_titles[item]), torch.tensor(self.x_contents[item]), torch.tensor(self.y[item])\n",
      "100%|██████████| 271/271 [00:03<00:00, 86.17it/s]\n"
     ]
    },
    {
     "name": "stdout",
     "output_type": "stream",
     "text": [
      "Epoch: 60 | Train Loss 0.0009613423995127062  | Train Precision: 0.8956048142625954 | Train Recall: 0.8664210680905217 | Train F1: 0.866407110401962\n"
     ]
    },
    {
     "name": "stderr",
     "output_type": "stream",
     "text": [
      "  0%|          | 0/271 [00:00<?, ?it/s]C:\\Users\\Alex\\AppData\\Local\\Temp\\ipykernel_8184\\1227666216.py:12: DeprecationWarning: In future, it will be an error for 'np.bool_' scalars to be interpreted as an index\n",
      "  return torch.tensor(self.x_titles[item]), torch.tensor(self.x_contents[item]), torch.tensor(self.y[item])\n",
      "100%|██████████| 271/271 [00:03<00:00, 80.87it/s]\n"
     ]
    },
    {
     "name": "stdout",
     "output_type": "stream",
     "text": [
      "Epoch: 61 | Train Loss 0.0009570275152089612  | Train Precision: 0.8940475789144947 | Train Recall: 0.8649233487890289 | Train F1: 0.8644998020684252\n"
     ]
    },
    {
     "name": "stderr",
     "output_type": "stream",
     "text": [
      "  0%|          | 0/271 [00:00<?, ?it/s]C:\\Users\\Alex\\AppData\\Local\\Temp\\ipykernel_8184\\1227666216.py:12: DeprecationWarning: In future, it will be an error for 'np.bool_' scalars to be interpreted as an index\n",
      "  return torch.tensor(self.x_titles[item]), torch.tensor(self.x_contents[item]), torch.tensor(self.y[item])\n",
      "100%|██████████| 271/271 [00:03<00:00, 85.49it/s]\n"
     ]
    },
    {
     "name": "stdout",
     "output_type": "stream",
     "text": [
      "Epoch: 62 | Train Loss 0.00096459753808773  | Train Precision: 0.892567145923918 | Train Recall: 0.8635154516430176 | Train F1: 0.8627556961893963\n"
     ]
    },
    {
     "name": "stderr",
     "output_type": "stream",
     "text": [
      "  0%|          | 0/271 [00:00<?, ?it/s]C:\\Users\\Alex\\AppData\\Local\\Temp\\ipykernel_8184\\1227666216.py:12: DeprecationWarning: In future, it will be an error for 'np.bool_' scalars to be interpreted as an index\n",
      "  return torch.tensor(self.x_titles[item]), torch.tensor(self.x_contents[item]), torch.tensor(self.y[item])\n",
      "100%|██████████| 271/271 [00:03<00:00, 80.21it/s]\n"
     ]
    },
    {
     "name": "stdout",
     "output_type": "stream",
     "text": [
      "Epoch: 63 | Train Loss 0.0009346988252145332  | Train Precision: 0.8974064614680983 | Train Recall: 0.86817078919852 | Train F1: 0.8686401831546136\n"
     ]
    },
    {
     "name": "stderr",
     "output_type": "stream",
     "text": [
      "  0%|          | 0/271 [00:00<?, ?it/s]C:\\Users\\Alex\\AppData\\Local\\Temp\\ipykernel_8184\\1227666216.py:12: DeprecationWarning: In future, it will be an error for 'np.bool_' scalars to be interpreted as an index\n",
      "  return torch.tensor(self.x_titles[item]), torch.tensor(self.x_contents[item]), torch.tensor(self.y[item])\n",
      "100%|██████████| 271/271 [00:03<00:00, 86.81it/s]\n"
     ]
    },
    {
     "name": "stdout",
     "output_type": "stream",
     "text": [
      "Epoch: 64 | Train Loss 0.0009568672589707694  | Train Precision: 0.8947321934535 | Train Recall: 0.8655561613915425 | Train F1: 0.8651370017870128\n"
     ]
    },
    {
     "name": "stderr",
     "output_type": "stream",
     "text": [
      "  0%|          | 0/271 [00:00<?, ?it/s]C:\\Users\\Alex\\AppData\\Local\\Temp\\ipykernel_8184\\1227666216.py:12: DeprecationWarning: In future, it will be an error for 'np.bool_' scalars to be interpreted as an index\n",
      "  return torch.tensor(self.x_titles[item]), torch.tensor(self.x_contents[item]), torch.tensor(self.y[item])\n",
      "100%|██████████| 271/271 [00:03<00:00, 82.48it/s]\n"
     ]
    },
    {
     "name": "stdout",
     "output_type": "stream",
     "text": [
      "Epoch: 65 | Train Loss 0.0009464582350097288  | Train Precision: 0.8939906151245278 | Train Recall: 0.8648558081450088 | Train F1: 0.8643150748137676\n"
     ]
    },
    {
     "name": "stderr",
     "output_type": "stream",
     "text": [
      "  0%|          | 0/271 [00:00<?, ?it/s]C:\\Users\\Alex\\AppData\\Local\\Temp\\ipykernel_8184\\1227666216.py:12: DeprecationWarning: In future, it will be an error for 'np.bool_' scalars to be interpreted as an index\n",
      "  return torch.tensor(self.x_titles[item]), torch.tensor(self.x_contents[item]), torch.tensor(self.y[item])\n",
      "100%|██████████| 271/271 [00:03<00:00, 80.80it/s]\n"
     ]
    },
    {
     "name": "stdout",
     "output_type": "stream",
     "text": [
      "Epoch: 66 | Train Loss 0.000953673370858429  | Train Precision: 0.893328605759113 | Train Recall: 0.8642324398184171 | Train F1: 0.8635926547254296\n"
     ]
    },
    {
     "name": "stderr",
     "output_type": "stream",
     "text": [
      "  0%|          | 0/271 [00:00<?, ?it/s]C:\\Users\\Alex\\AppData\\Local\\Temp\\ipykernel_8184\\1227666216.py:12: DeprecationWarning: In future, it will be an error for 'np.bool_' scalars to be interpreted as an index\n",
      "  return torch.tensor(self.x_titles[item]), torch.tensor(self.x_contents[item]), torch.tensor(self.y[item])\n",
      "100%|██████████| 271/271 [00:03<00:00, 86.43it/s]\n"
     ]
    },
    {
     "name": "stdout",
     "output_type": "stream",
     "text": [
      "Epoch: 67 | Train Loss 0.0009400030831683291  | Train Precision: 0.8959825199421649 | Train Recall: 0.8667567786068152 | Train F1: 0.8666611174518464\n"
     ]
    },
    {
     "name": "stderr",
     "output_type": "stream",
     "text": [
      "  0%|          | 0/271 [00:00<?, ?it/s]C:\\Users\\Alex\\AppData\\Local\\Temp\\ipykernel_8184\\1227666216.py:12: DeprecationWarning: In future, it will be an error for 'np.bool_' scalars to be interpreted as an index\n",
      "  return torch.tensor(self.x_titles[item]), torch.tensor(self.x_contents[item]), torch.tensor(self.y[item])\n",
      "100%|██████████| 271/271 [00:03<00:00, 82.19it/s]\n"
     ]
    },
    {
     "name": "stdout",
     "output_type": "stream",
     "text": [
      "Epoch: 68 | Train Loss 0.0009624734331242217  | Train Precision: 0.8926719149124362 | Train Recall: 0.8635853270481502 | Train F1: 0.8625553245681572\n"
     ]
    },
    {
     "name": "stderr",
     "output_type": "stream",
     "text": [
      "  0%|          | 0/271 [00:00<?, ?it/s]C:\\Users\\Alex\\AppData\\Local\\Temp\\ipykernel_8184\\1227666216.py:12: DeprecationWarning: In future, it will be an error for 'np.bool_' scalars to be interpreted as an index\n",
      "  return torch.tensor(self.x_titles[item]), torch.tensor(self.x_contents[item]), torch.tensor(self.y[item])\n",
      "100%|██████████| 271/271 [00:03<00:00, 84.81it/s]\n"
     ]
    },
    {
     "name": "stdout",
     "output_type": "stream",
     "text": [
      "Epoch: 69 | Train Loss 0.0009523768508597757  | Train Precision: 0.8954683673864027 | Train Recall: 0.8662838170817144 | Train F1: 0.8661987309864883\n"
     ]
    },
    {
     "name": "stderr",
     "output_type": "stream",
     "text": [
      "  0%|          | 0/271 [00:00<?, ?it/s]C:\\Users\\Alex\\AppData\\Local\\Temp\\ipykernel_8184\\1227666216.py:12: DeprecationWarning: In future, it will be an error for 'np.bool_' scalars to be interpreted as an index\n",
      "  return torch.tensor(self.x_titles[item]), torch.tensor(self.x_contents[item]), torch.tensor(self.y[item])\n",
      "100%|██████████| 271/271 [00:03<00:00, 80.32it/s]\n"
     ]
    },
    {
     "name": "stdout",
     "output_type": "stream",
     "text": [
      "Epoch: 70 | Train Loss 0.0009308724632468165  | Train Precision: 0.8951244191818888 | Train Recall: 0.86594059787507 | Train F1: 0.8656837694337743\n"
     ]
    },
    {
     "name": "stderr",
     "output_type": "stream",
     "text": [
      "  0%|          | 0/271 [00:00<?, ?it/s]C:\\Users\\Alex\\AppData\\Local\\Temp\\ipykernel_8184\\1227666216.py:12: DeprecationWarning: In future, it will be an error for 'np.bool_' scalars to be interpreted as an index\n",
      "  return torch.tensor(self.x_titles[item]), torch.tensor(self.x_contents[item]), torch.tensor(self.y[item])\n",
      "100%|██████████| 271/271 [00:03<00:00, 86.32it/s]\n"
     ]
    },
    {
     "name": "stdout",
     "output_type": "stream",
     "text": [
      "Epoch: 71 | Train Loss 0.0009356556073162214  | Train Precision: 0.8947690181052493 | Train Recall: 0.8655796954732794 | Train F1: 0.8650787768082936\n"
     ]
    },
    {
     "name": "stderr",
     "output_type": "stream",
     "text": [
      "  0%|          | 0/271 [00:00<?, ?it/s]C:\\Users\\Alex\\AppData\\Local\\Temp\\ipykernel_8184\\1227666216.py:12: DeprecationWarning: In future, it will be an error for 'np.bool_' scalars to be interpreted as an index\n",
      "  return torch.tensor(self.x_titles[item]), torch.tensor(self.x_contents[item]), torch.tensor(self.y[item])\n",
      "100%|██████████| 271/271 [00:03<00:00, 79.90it/s]\n"
     ]
    },
    {
     "name": "stdout",
     "output_type": "stream",
     "text": [
      "Epoch: 72 | Train Loss 0.0009530689698803262  | Train Precision: 0.8941582246244058 | Train Recall: 0.8650114012402202 | Train F1: 0.8644770256724841\n"
     ]
    },
    {
     "name": "stderr",
     "output_type": "stream",
     "text": [
      "  0%|          | 0/271 [00:00<?, ?it/s]C:\\Users\\Alex\\AppData\\Local\\Temp\\ipykernel_8184\\1227666216.py:12: DeprecationWarning: In future, it will be an error for 'np.bool_' scalars to be interpreted as an index\n",
      "  return torch.tensor(self.x_titles[item]), torch.tensor(self.x_contents[item]), torch.tensor(self.y[item])\n",
      "100%|██████████| 271/271 [00:03<00:00, 85.88it/s]\n"
     ]
    },
    {
     "name": "stdout",
     "output_type": "stream",
     "text": [
      "Epoch: 73 | Train Loss 0.0009467611279018746  | Train Precision: 0.8950731603586517 | Train Recall: 0.8658796373068238 | Train F1: 0.8655249929375438\n"
     ]
    },
    {
     "name": "stderr",
     "output_type": "stream",
     "text": [
      "  0%|          | 0/271 [00:00<?, ?it/s]C:\\Users\\Alex\\AppData\\Local\\Temp\\ipykernel_8184\\1227666216.py:12: DeprecationWarning: In future, it will be an error for 'np.bool_' scalars to be interpreted as an index\n",
      "  return torch.tensor(self.x_titles[item]), torch.tensor(self.x_contents[item]), torch.tensor(self.y[item])\n",
      "100%|██████████| 271/271 [00:03<00:00, 81.37it/s]\n"
     ]
    },
    {
     "name": "stdout",
     "output_type": "stream",
     "text": [
      "Epoch: 74 | Train Loss 0.0009429034748104085  | Train Precision: 0.894794604578202 | Train Recall: 0.8656053136623558 | Train F1: 0.8651202088962604\n"
     ]
    },
    {
     "name": "stderr",
     "output_type": "stream",
     "text": [
      "  0%|          | 0/271 [00:00<?, ?it/s]C:\\Users\\Alex\\AppData\\Local\\Temp\\ipykernel_8184\\1227666216.py:12: DeprecationWarning: In future, it will be an error for 'np.bool_' scalars to be interpreted as an index\n",
      "  return torch.tensor(self.x_titles[item]), torch.tensor(self.x_contents[item]), torch.tensor(self.y[item])\n",
      "100%|██████████| 271/271 [00:03<00:00, 85.47it/s]\n"
     ]
    },
    {
     "name": "stdout",
     "output_type": "stream",
     "text": [
      "Epoch: 75 | Train Loss 0.0009340609114955929  | Train Precision: 0.8954282608646307 | Train Recall: 0.8662089103785516 | Train F1: 0.8658643334504095\n"
     ]
    },
    {
     "name": "stderr",
     "output_type": "stream",
     "text": [
      "  0%|          | 0/271 [00:00<?, ?it/s]C:\\Users\\Alex\\AppData\\Local\\Temp\\ipykernel_8184\\1227666216.py:12: DeprecationWarning: In future, it will be an error for 'np.bool_' scalars to be interpreted as an index\n",
      "  return torch.tensor(self.x_titles[item]), torch.tensor(self.x_contents[item]), torch.tensor(self.y[item])\n",
      "100%|██████████| 271/271 [00:03<00:00, 81.35it/s]\n"
     ]
    },
    {
     "name": "stdout",
     "output_type": "stream",
     "text": [
      "Epoch: 76 | Train Loss 0.0009324465242697943  | Train Precision: 0.8961954686052214 | Train Recall: 0.8669413135477173 | Train F1: 0.8667660282806617\n"
     ]
    },
    {
     "name": "stderr",
     "output_type": "stream",
     "text": [
      "  0%|          | 0/271 [00:00<?, ?it/s]C:\\Users\\Alex\\AppData\\Local\\Temp\\ipykernel_8184\\1227666216.py:12: DeprecationWarning: In future, it will be an error for 'np.bool_' scalars to be interpreted as an index\n",
      "  return torch.tensor(self.x_titles[item]), torch.tensor(self.x_contents[item]), torch.tensor(self.y[item])\n",
      "100%|██████████| 271/271 [00:03<00:00, 86.60it/s]\n"
     ]
    },
    {
     "name": "stdout",
     "output_type": "stream",
     "text": [
      "Epoch: 77 | Train Loss 0.0009177672529963398  | Train Precision: 0.8978351254002446 | Train Recall: 0.8685263686742475 | Train F1: 0.8687872112069623\n"
     ]
    },
    {
     "name": "stderr",
     "output_type": "stream",
     "text": [
      "  0%|          | 0/271 [00:00<?, ?it/s]C:\\Users\\Alex\\AppData\\Local\\Temp\\ipykernel_8184\\1227666216.py:12: DeprecationWarning: In future, it will be an error for 'np.bool_' scalars to be interpreted as an index\n",
      "  return torch.tensor(self.x_titles[item]), torch.tensor(self.x_contents[item]), torch.tensor(self.y[item])\n",
      "100%|██████████| 271/271 [00:03<00:00, 81.89it/s]\n"
     ]
    },
    {
     "name": "stdout",
     "output_type": "stream",
     "text": [
      "Epoch: 78 | Train Loss 0.000935466569309308  | Train Precision: 0.8951041512276738 | Train Recall: 0.8658825017329028 | Train F1: 0.8653267491294934\n"
     ]
    },
    {
     "name": "stderr",
     "output_type": "stream",
     "text": [
      "  0%|          | 0/271 [00:00<?, ?it/s]C:\\Users\\Alex\\AppData\\Local\\Temp\\ipykernel_8184\\1227666216.py:12: DeprecationWarning: In future, it will be an error for 'np.bool_' scalars to be interpreted as an index\n",
      "  return torch.tensor(self.x_titles[item]), torch.tensor(self.x_contents[item]), torch.tensor(self.y[item])\n",
      "100%|██████████| 271/271 [00:03<00:00, 84.16it/s]\n"
     ]
    },
    {
     "name": "stdout",
     "output_type": "stream",
     "text": [
      "Epoch: 79 | Train Loss 0.0009329914857021942  | Train Precision: 0.8957976667261001 | Train Recall: 0.8665623959903629 | Train F1: 0.8663068917010144\n"
     ]
    },
    {
     "name": "stderr",
     "output_type": "stream",
     "text": [
      "  0%|          | 0/271 [00:00<?, ?it/s]C:\\Users\\Alex\\AppData\\Local\\Temp\\ipykernel_8184\\1227666216.py:12: DeprecationWarning: In future, it will be an error for 'np.bool_' scalars to be interpreted as an index\n",
      "  return torch.tensor(self.x_titles[item]), torch.tensor(self.x_contents[item]), torch.tensor(self.y[item])\n",
      "100%|██████████| 271/271 [00:03<00:00, 82.32it/s]\n"
     ]
    },
    {
     "name": "stdout",
     "output_type": "stream",
     "text": [
      "Epoch: 80 | Train Loss 0.0009449683427224416  | Train Precision: 0.8949193838889405 | Train Recall: 0.8657005441807467 | Train F1: 0.8650485724571331\n"
     ]
    },
    {
     "name": "stderr",
     "output_type": "stream",
     "text": [
      "  0%|          | 0/271 [00:00<?, ?it/s]C:\\Users\\Alex\\AppData\\Local\\Temp\\ipykernel_8184\\1227666216.py:12: DeprecationWarning: In future, it will be an error for 'np.bool_' scalars to be interpreted as an index\n",
      "  return torch.tensor(self.x_titles[item]), torch.tensor(self.x_contents[item]), torch.tensor(self.y[item])\n",
      "100%|██████████| 271/271 [00:03<00:00, 85.73it/s]\n"
     ]
    },
    {
     "name": "stdout",
     "output_type": "stream",
     "text": [
      "Epoch: 81 | Train Loss 0.0009371321217291225  | Train Precision: 0.8941294850974277 | Train Recall: 0.8649548450992646 | Train F1: 0.8641569652444688\n"
     ]
    },
    {
     "name": "stderr",
     "output_type": "stream",
     "text": [
      "  0%|          | 0/271 [00:00<?, ?it/s]C:\\Users\\Alex\\AppData\\Local\\Temp\\ipykernel_8184\\1227666216.py:12: DeprecationWarning: In future, it will be an error for 'np.bool_' scalars to be interpreted as an index\n",
      "  return torch.tensor(self.x_titles[item]), torch.tensor(self.x_contents[item]), torch.tensor(self.y[item])\n",
      "100%|██████████| 271/271 [00:03<00:00, 81.57it/s]\n"
     ]
    },
    {
     "name": "stdout",
     "output_type": "stream",
     "text": [
      "Epoch: 82 | Train Loss 0.000929560546789752  | Train Precision: 0.8965279209989441 | Train Recall: 0.8672587038181269 | Train F1: 0.8671530405050842\n"
     ]
    },
    {
     "name": "stderr",
     "output_type": "stream",
     "text": [
      "  0%|          | 0/271 [00:00<?, ?it/s]C:\\Users\\Alex\\AppData\\Local\\Temp\\ipykernel_8184\\1227666216.py:12: DeprecationWarning: In future, it will be an error for 'np.bool_' scalars to be interpreted as an index\n",
      "  return torch.tensor(self.x_titles[item]), torch.tensor(self.x_contents[item]), torch.tensor(self.y[item])\n",
      "100%|██████████| 271/271 [00:03<00:00, 80.10it/s]\n"
     ]
    },
    {
     "name": "stdout",
     "output_type": "stream",
     "text": [
      "Epoch: 83 | Train Loss 0.0009280510515740171  | Train Precision: 0.8953740636806973 | Train Recall: 0.8661361970396964 | Train F1: 0.8656164862185518\n"
     ]
    },
    {
     "name": "stderr",
     "output_type": "stream",
     "text": [
      "  0%|          | 0/271 [00:00<?, ?it/s]C:\\Users\\Alex\\AppData\\Local\\Temp\\ipykernel_8184\\1227666216.py:12: DeprecationWarning: In future, it will be an error for 'np.bool_' scalars to be interpreted as an index\n",
      "  return torch.tensor(self.x_titles[item]), torch.tensor(self.x_contents[item]), torch.tensor(self.y[item])\n",
      "100%|██████████| 271/271 [00:03<00:00, 85.97it/s]\n"
     ]
    },
    {
     "name": "stdout",
     "output_type": "stream",
     "text": [
      "Epoch: 84 | Train Loss 0.0009238203919370454  | Train Precision: 0.8968146907201624 | Train Recall: 0.8675073286543052 | Train F1: 0.8672931902887855\n"
     ]
    },
    {
     "name": "stderr",
     "output_type": "stream",
     "text": [
      "  0%|          | 0/271 [00:00<?, ?it/s]C:\\Users\\Alex\\AppData\\Local\\Temp\\ipykernel_8184\\1227666216.py:12: DeprecationWarning: In future, it will be an error for 'np.bool_' scalars to be interpreted as an index\n",
      "  return torch.tensor(self.x_titles[item]), torch.tensor(self.x_contents[item]), torch.tensor(self.y[item])\n",
      "100%|██████████| 271/271 [00:03<00:00, 81.34it/s]\n"
     ]
    },
    {
     "name": "stdout",
     "output_type": "stream",
     "text": [
      "Epoch: 85 | Train Loss 0.0009409609690198218  | Train Precision: 0.8941577522990823 | Train Recall: 0.8649696699239512 | Train F1: 0.8640595770906845\n"
     ]
    },
    {
     "name": "stderr",
     "output_type": "stream",
     "text": [
      "  0%|          | 0/271 [00:00<?, ?it/s]C:\\Users\\Alex\\AppData\\Local\\Temp\\ipykernel_8184\\1227666216.py:12: DeprecationWarning: In future, it will be an error for 'np.bool_' scalars to be interpreted as an index\n",
      "  return torch.tensor(self.x_titles[item]), torch.tensor(self.x_contents[item]), torch.tensor(self.y[item])\n",
      "100%|██████████| 271/271 [00:03<00:00, 84.91it/s]\n"
     ]
    },
    {
     "name": "stdout",
     "output_type": "stream",
     "text": [
      "Epoch: 86 | Train Loss 0.0009289227309771481  | Train Precision: 0.8960901843527139 | Train Recall: 0.8668244135684976 | Train F1: 0.8665111597104387\n"
     ]
    },
    {
     "name": "stderr",
     "output_type": "stream",
     "text": [
      "  0%|          | 0/271 [00:00<?, ?it/s]C:\\Users\\Alex\\AppData\\Local\\Temp\\ipykernel_8184\\1227666216.py:12: DeprecationWarning: In future, it will be an error for 'np.bool_' scalars to be interpreted as an index\n",
      "  return torch.tensor(self.x_titles[item]), torch.tensor(self.x_contents[item]), torch.tensor(self.y[item])\n",
      "100%|██████████| 271/271 [00:03<00:00, 81.96it/s]\n"
     ]
    },
    {
     "name": "stdout",
     "output_type": "stream",
     "text": [
      "Epoch: 87 | Train Loss 0.0009197817892922458  | Train Precision: 0.8962575791592631 | Train Recall: 0.8669578076431392 | Train F1: 0.8664830863743884\n"
     ]
    },
    {
     "name": "stderr",
     "output_type": "stream",
     "text": [
      "  0%|          | 0/271 [00:00<?, ?it/s]C:\\Users\\Alex\\AppData\\Local\\Temp\\ipykernel_8184\\1227666216.py:12: DeprecationWarning: In future, it will be an error for 'np.bool_' scalars to be interpreted as an index\n",
      "  return torch.tensor(self.x_titles[item]), torch.tensor(self.x_contents[item]), torch.tensor(self.y[item])\n",
      "100%|██████████| 271/271 [00:03<00:00, 85.24it/s]\n"
     ]
    },
    {
     "name": "stdout",
     "output_type": "stream",
     "text": [
      "Epoch: 88 | Train Loss 0.0009131320555851956  | Train Precision: 0.8984316135255976 | Train Recall: 0.8690689249885146 | Train F1: 0.8692862342426608\n"
     ]
    },
    {
     "name": "stderr",
     "output_type": "stream",
     "text": [
      "  0%|          | 0/271 [00:00<?, ?it/s]C:\\Users\\Alex\\AppData\\Local\\Temp\\ipykernel_8184\\1227666216.py:12: DeprecationWarning: In future, it will be an error for 'np.bool_' scalars to be interpreted as an index\n",
      "  return torch.tensor(self.x_titles[item]), torch.tensor(self.x_contents[item]), torch.tensor(self.y[item])\n",
      "100%|██████████| 271/271 [00:03<00:00, 81.78it/s]\n"
     ]
    },
    {
     "name": "stdout",
     "output_type": "stream",
     "text": [
      "Epoch: 89 | Train Loss 0.0009240641139466656  | Train Precision: 0.896058764097034 | Train Recall: 0.8667775619259858 | Train F1: 0.8663295835467311\n"
     ]
    },
    {
     "name": "stderr",
     "output_type": "stream",
     "text": [
      "  0%|          | 0/271 [00:00<?, ?it/s]C:\\Users\\Alex\\AppData\\Local\\Temp\\ipykernel_8184\\1227666216.py:12: DeprecationWarning: In future, it will be an error for 'np.bool_' scalars to be interpreted as an index\n",
      "  return torch.tensor(self.x_titles[item]), torch.tensor(self.x_contents[item]), torch.tensor(self.y[item])\n",
      "100%|██████████| 271/271 [00:03<00:00, 86.40it/s]\n"
     ]
    },
    {
     "name": "stdout",
     "output_type": "stream",
     "text": [
      "Epoch: 90 | Train Loss 0.0009089589558215887  | Train Precision: 0.8973602635316046 | Train Recall: 0.8680291492108836 | Train F1: 0.8679371543589035\n"
     ]
    },
    {
     "name": "stderr",
     "output_type": "stream",
     "text": [
      "  0%|          | 0/271 [00:00<?, ?it/s]C:\\Users\\Alex\\AppData\\Local\\Temp\\ipykernel_8184\\1227666216.py:12: DeprecationWarning: In future, it will be an error for 'np.bool_' scalars to be interpreted as an index\n",
      "  return torch.tensor(self.x_titles[item]), torch.tensor(self.x_contents[item]), torch.tensor(self.y[item])\n",
      "100%|██████████| 271/271 [00:03<00:00, 81.91it/s]\n"
     ]
    },
    {
     "name": "stdout",
     "output_type": "stream",
     "text": [
      "Epoch: 91 | Train Loss 0.0009269854469835634  | Train Precision: 0.8959535227831923 | Train Recall: 0.86666720191512 | Train F1: 0.8661126867612935\n"
     ]
    },
    {
     "name": "stderr",
     "output_type": "stream",
     "text": [
      "  0%|          | 0/271 [00:00<?, ?it/s]C:\\Users\\Alex\\AppData\\Local\\Temp\\ipykernel_8184\\1227666216.py:12: DeprecationWarning: In future, it will be an error for 'np.bool_' scalars to be interpreted as an index\n",
      "  return torch.tensor(self.x_titles[item]), torch.tensor(self.x_contents[item]), torch.tensor(self.y[item])\n",
      "100%|██████████| 271/271 [00:03<00:00, 85.52it/s]\n"
     ]
    },
    {
     "name": "stdout",
     "output_type": "stream",
     "text": [
      "Epoch: 92 | Train Loss 0.0009318143459115832  | Train Precision: 0.8946806340596025 | Train Recall: 0.8654684941678952 | Train F1: 0.8647124827196767\n"
     ]
    },
    {
     "name": "stderr",
     "output_type": "stream",
     "text": [
      "  0%|          | 0/271 [00:00<?, ?it/s]C:\\Users\\Alex\\AppData\\Local\\Temp\\ipykernel_8184\\1227666216.py:12: DeprecationWarning: In future, it will be an error for 'np.bool_' scalars to be interpreted as an index\n",
      "  return torch.tensor(self.x_titles[item]), torch.tensor(self.x_contents[item]), torch.tensor(self.y[item])\n",
      "100%|██████████| 271/271 [00:03<00:00, 81.39it/s]\n"
     ]
    },
    {
     "name": "stdout",
     "output_type": "stream",
     "text": [
      "Epoch: 93 | Train Loss 0.0009154042837293411  | Train Precision: 0.8972891232021446 | Train Recall: 0.8679493457784471 | Train F1: 0.8677627564946533\n"
     ]
    },
    {
     "name": "stderr",
     "output_type": "stream",
     "text": [
      "  0%|          | 0/271 [00:00<?, ?it/s]C:\\Users\\Alex\\AppData\\Local\\Temp\\ipykernel_8184\\1227666216.py:12: DeprecationWarning: In future, it will be an error for 'np.bool_' scalars to be interpreted as an index\n",
      "  return torch.tensor(self.x_titles[item]), torch.tensor(self.x_contents[item]), torch.tensor(self.y[item])\n",
      "100%|██████████| 271/271 [00:03<00:00, 86.33it/s]\n"
     ]
    },
    {
     "name": "stdout",
     "output_type": "stream",
     "text": [
      "Epoch: 94 | Train Loss 0.0009109564537207884  | Train Precision: 0.8973772496157968 | Train Recall: 0.8680380731563423 | Train F1: 0.8679014092107271\n"
     ]
    },
    {
     "name": "stderr",
     "output_type": "stream",
     "text": [
      "  0%|          | 0/271 [00:00<?, ?it/s]C:\\Users\\Alex\\AppData\\Local\\Temp\\ipykernel_8184\\1227666216.py:12: DeprecationWarning: In future, it will be an error for 'np.bool_' scalars to be interpreted as an index\n",
      "  return torch.tensor(self.x_titles[item]), torch.tensor(self.x_contents[item]), torch.tensor(self.y[item])\n",
      "100%|██████████| 271/271 [00:03<00:00, 80.27it/s]\n"
     ]
    },
    {
     "name": "stdout",
     "output_type": "stream",
     "text": [
      "Epoch: 95 | Train Loss 0.0009283900997620632  | Train Precision: 0.8952032152494623 | Train Recall: 0.8659423596018578 | Train F1: 0.8650995331337397\n"
     ]
    },
    {
     "name": "stderr",
     "output_type": "stream",
     "text": [
      "  0%|          | 0/271 [00:00<?, ?it/s]C:\\Users\\Alex\\AppData\\Local\\Temp\\ipykernel_8184\\1227666216.py:12: DeprecationWarning: In future, it will be an error for 'np.bool_' scalars to be interpreted as an index\n",
      "  return torch.tensor(self.x_titles[item]), torch.tensor(self.x_contents[item]), torch.tensor(self.y[item])\n",
      "100%|██████████| 271/271 [00:03<00:00, 81.36it/s]\n"
     ]
    },
    {
     "name": "stdout",
     "output_type": "stream",
     "text": [
      "Epoch: 96 | Train Loss 0.0009261591623355547  | Train Precision: 0.8960273009026883 | Train Recall: 0.8667279094038627 | Train F1: 0.8661099409410516\n"
     ]
    },
    {
     "name": "stderr",
     "output_type": "stream",
     "text": [
      "  0%|          | 0/271 [00:00<?, ?it/s]C:\\Users\\Alex\\AppData\\Local\\Temp\\ipykernel_8184\\1227666216.py:12: DeprecationWarning: In future, it will be an error for 'np.bool_' scalars to be interpreted as an index\n",
      "  return torch.tensor(self.x_titles[item]), torch.tensor(self.x_contents[item]), torch.tensor(self.y[item])\n",
      "100%|██████████| 271/271 [00:03<00:00, 86.25it/s]\n"
     ]
    },
    {
     "name": "stdout",
     "output_type": "stream",
     "text": [
      "Epoch: 97 | Train Loss 0.0009199855461185576  | Train Precision: 0.8955640207221711 | Train Recall: 0.8662786679849419 | Train F1: 0.865464761661031\n"
     ]
    },
    {
     "name": "stderr",
     "output_type": "stream",
     "text": [
      "  0%|          | 0/271 [00:00<?, ?it/s]C:\\Users\\Alex\\AppData\\Local\\Temp\\ipykernel_8184\\1227666216.py:12: DeprecationWarning: In future, it will be an error for 'np.bool_' scalars to be interpreted as an index\n",
      "  return torch.tensor(self.x_titles[item]), torch.tensor(self.x_contents[item]), torch.tensor(self.y[item])\n",
      "100%|██████████| 271/271 [00:03<00:00, 82.55it/s]\n"
     ]
    },
    {
     "name": "stdout",
     "output_type": "stream",
     "text": [
      "Epoch: 98 | Train Loss 0.0009102057526567018  | Train Precision: 0.896794508643279 | Train Recall: 0.8674573540512772 | Train F1: 0.8670115994814136\n"
     ]
    },
    {
     "name": "stderr",
     "output_type": "stream",
     "text": [
      "  0%|          | 0/271 [00:00<?, ?it/s]C:\\Users\\Alex\\AppData\\Local\\Temp\\ipykernel_8184\\1227666216.py:12: DeprecationWarning: In future, it will be an error for 'np.bool_' scalars to be interpreted as an index\n",
      "  return torch.tensor(self.x_titles[item]), torch.tensor(self.x_contents[item]), torch.tensor(self.y[item])\n",
      "100%|██████████| 271/271 [00:03<00:00, 87.36it/s]\n"
     ]
    },
    {
     "name": "stdout",
     "output_type": "stream",
     "text": [
      "Epoch: 99 | Train Loss 0.0009094126191911833  | Train Precision: 0.89727486078532 | Train Recall: 0.8679296170647639 | Train F1: 0.8676974396994261\n"
     ]
    },
    {
     "name": "stderr",
     "output_type": "stream",
     "text": [
      "  0%|          | 0/271 [00:00<?, ?it/s]C:\\Users\\Alex\\AppData\\Local\\Temp\\ipykernel_8184\\1227666216.py:12: DeprecationWarning: In future, it will be an error for 'np.bool_' scalars to be interpreted as an index\n",
      "  return torch.tensor(self.x_titles[item]), torch.tensor(self.x_contents[item]), torch.tensor(self.y[item])\n",
      "100%|██████████| 271/271 [00:03<00:00, 81.24it/s]\n"
     ]
    },
    {
     "name": "stdout",
     "output_type": "stream",
     "text": [
      "Epoch: 100 | Train Loss 0.0009166747887697079  | Train Precision: 0.8969565419924246 | Train Recall: 0.8676185232185583 | Train F1: 0.8672615872464797\n"
     ]
    }
   ],
   "source": [
    "from sklearn.metrics import precision_recall_fscore_support\n",
    "from tqdm import tqdm\n",
    "\n",
    "for epoch in range(EPOCHS):\n",
    "    running_loss = 0\n",
    "    running_acc = 0\n",
    "\n",
    "    train_pred_labels = []\n",
    "    train_true_labels = []\n",
    "\n",
    "    for X_title, X_content, y in tqdm(train_loader):\n",
    "        y = y.to(device, dtype=torch.long)\n",
    "        X_title = X_title.to(device, dtype=torch.float)\n",
    "        X_content = X_content.to(device, dtype=torch.float)\n",
    "\n",
    "        output = model_text_and_content(X_title, X_content)\n",
    "\n",
    "        output.squeeze(1)\n",
    "        pred = output > 0.5\n",
    "\n",
    "        train_pred_labels.extend(pred.cpu().numpy().tolist())\n",
    "        train_true_labels.extend(y.cpu().numpy().tolist())\n",
    "\n",
    "        loss = criterion(output.squeeze(1), y.float())\n",
    "        running_loss += loss.item()\n",
    "\n",
    "        model_text_and_content.zero_grad()\n",
    "        loss.backward()\n",
    "        optimizer.step()\n",
    "\n",
    "    pred_labels = []\n",
    "    true_labels = []\n",
    "\n",
    "    # model_text_and_content.eval()\n",
    "    # val_loss = 0\n",
    "    # with torch.no_grad():\n",
    "    #     for X_title, X_content, y in tqdm(val_loader):\n",
    "    #         y = y.to(device, dtype=torch.long)\n",
    "    #         X_title = X_title.to(device, dtype=torch.float)\n",
    "    #         X_content = X_content.to(device, dtype=torch.float)\n",
    "    # \n",
    "    #         output = model_text_and_content(X_title, X_content)\n",
    "    #         val_loss += criterion(output.squeeze(1), y.float()).item()\n",
    "    #         output.squeeze(1)\n",
    "    #         \n",
    "    # \n",
    "    #         pred = (torch.sigmoid(output) > 0.5)\n",
    "    #         pred_labels.extend(pred.cpu().numpy().tolist())\n",
    "    #         true_labels.extend(y.cpu().numpy().tolist())\n",
    "    #         \n",
    "    #     # scheduler.step(val_loss)\n",
    "            \n",
    "    # \n",
    "    # model_text_and_content.train()\n",
    "    # \n",
    "    # precision, recall, f1, _ = precision_recall_fscore_support(true_labels, pred_labels, average='macro')\n",
    "    precision_train, recall_train, f1_train, _ = precision_recall_fscore_support(train_pred_labels, train_true_labels, average='macro')\n",
    "\n",
    "\n",
    "    # print(f\"Epoch: {epoch + 1} | Train Loss {running_loss / len(train_set)}  | Train Precision: {precision_train} | Train Recall: {recall_train} | Train F1: {f1_train} | Val Loss: {val_loss / len(val_set)} | Val Precision: {precision} | Val Recall: {recall} | Val F1: {f1}\")\n",
    "    print(f\"Epoch: {epoch + 1} | Train Loss {running_loss / len(train_set)}  | Train Precision: {precision_train} | Train Recall: {recall_train} | Train F1: {f1_train}\")\n",
    "    # print(f\"Epoch: {epoch + 1} | Val Loss: {val_loss / len(val_set)} | Val Precision: {precision} | Val Recall: {recall} | Val F1: {f1}\")\n",
    "    \n",
    "    # # save best model\n",
    "    # if epoch == 0:\n",
    "    #     best_f1 = f1\n",
    "    #     torch.save(model_text_and_content.state_dict(), 'models/titleAndContentClassifier.pth')\n",
    "    # else:\n",
    "    #     if f1 > best_f1:\n",
    "    #         best_f1 = f1\n",
    "    #         torch.save(model_text_and_content.state_dict(), 'models/titleAndContentClassifier.pth')\n",
    "\n",
    "torch.save(model_text_and_content.state_dict(), 'models/titleAndContentClassifier.pth')"
   ],
   "metadata": {
    "collapsed": false,
    "ExecuteTime": {
     "end_time": "2024-03-31T06:47:58.479727Z",
     "start_time": "2024-03-31T06:42:49.172258Z"
    }
   },
   "id": "59b0f7358eb95a03"
  },
  {
   "cell_type": "code",
   "outputs": [
    {
     "data": {
      "text/plain": "<All keys matched successfully>"
     },
     "execution_count": 210,
     "metadata": {},
     "output_type": "execute_result"
    }
   ],
   "source": [
    "# load best model\n",
    "model_text_and_content = TitleAndContent().to(device)\n",
    "model_text_and_content.load_state_dict(torch.load('models/titleAndContentClassifier.pth'))"
   ],
   "metadata": {
    "collapsed": false,
    "ExecuteTime": {
     "end_time": "2024-03-31T06:47:58.494015Z",
     "start_time": "2024-03-31T06:47:58.480731Z"
    }
   },
   "id": "13c3aaaa598e642e",
   "execution_count": 210
  },
  {
   "cell_type": "code",
   "execution_count": 211,
   "outputs": [],
   "source": [
    "# AICI SE TERMINA MODELUL PENTRU TITLU SI CONTENT\n",
    "# DE AICI INCEPE PENTRU SUBMISIE"
   ],
   "metadata": {
    "collapsed": false,
    "ExecuteTime": {
     "end_time": "2024-03-31T06:47:58.503915Z",
     "start_time": "2024-03-31T06:47:58.495019Z"
    }
   },
   "id": "53db5b6b0a42d412"
  },
  {
   "cell_type": "code",
   "execution_count": 212,
   "outputs": [],
   "source": [
    "def get_all_test_data():\n",
    "    file_names = ['first', 'second', 'third', 'fourth', 'fifth', 'sixth']\n",
    "    \n",
    "    all_titles = np.array([])\n",
    "    all_contents = np.array([])\n",
    "    \n",
    "    for f in file_names:\n",
    "        titles = np.load(f'testing_splits/{f}_testtitle.npy')\n",
    "        content = np.load(f'testing_splits/{f}_testcontent.npy')\n",
    "        if len(all_titles) == 0:\n",
    "            all_titles = titles\n",
    "            all_contents = content\n",
    "        else:\n",
    "            all_titles = np.concatenate((all_titles, titles), axis=0)\n",
    "            all_contents = np.concatenate((all_contents, content), axis=0)\n",
    "            \n",
    "    return all_titles, all_contents"
   ],
   "metadata": {
    "collapsed": false,
    "ExecuteTime": {
     "end_time": "2024-03-31T06:47:58.511825Z",
     "start_time": "2024-03-31T06:47:58.504941Z"
    }
   },
   "id": "2ca713c7ecdebd5a"
  },
  {
   "cell_type": "code",
   "execution_count": 213,
   "outputs": [],
   "source": [
    "X, y = get_all_test_data()\n",
    "df = pd.read_csv('test.csv')"
   ],
   "metadata": {
    "collapsed": false,
    "ExecuteTime": {
     "end_time": "2024-03-31T06:47:59.780341Z",
     "start_time": "2024-03-31T06:47:58.513332Z"
    }
   },
   "id": "2f04baa51a76dd94"
  },
  {
   "cell_type": "code",
   "execution_count": 214,
   "outputs": [
    {
     "name": "stderr",
     "output_type": "stream",
     "text": [
      "100%|██████████| 36669/36669 [00:27<00:00, 1324.06it/s]\n"
     ]
    }
   ],
   "source": [
    "all_pred = []\n",
    "ids = []\n",
    "\n",
    "# model_titles = ClssificationNetwork().to(device)\n",
    "# model_titles.load_state_dict(torch.load('haisavedem.pth'))\n",
    "\n",
    "model_titles.eval()\n",
    "model_text_and_content.eval()\n",
    "\n",
    "indices = df[df['content'].str.len() > 1].index.tolist()\n",
    "\n",
    "for i in tqdm(range(len(df))):\n",
    "    title = X[i]\n",
    "    content = y[i]\n",
    "    if i in indices:\n",
    "        title = torch.tensor(title, dtype=torch.float).to(device).unsqueeze(0)\n",
    "        content = torch.tensor(content, dtype=torch.float).to(device).unsqueeze(0)\n",
    "        output = model_text_and_content(title, content)\n",
    "        output.squeeze(1)\n",
    "        pred = (output > 0.5).item()\n",
    "    else:\n",
    "        title = torch.tensor(title, dtype=torch.float).to(device).unsqueeze(0)\n",
    "        output = model_titles(title)\n",
    "        output.squeeze(1)\n",
    "        pred = (output > 0.5).item()\n",
    "        \n",
    "    all_pred.append(pred)\n",
    "    ids.append(i)"
   ],
   "metadata": {
    "collapsed": false,
    "ExecuteTime": {
     "end_time": "2024-03-31T06:48:27.493144Z",
     "start_time": "2024-03-31T06:47:59.781353Z"
    }
   },
   "id": "aa2cabb8199d8566"
  },
  {
   "cell_type": "code",
   "execution_count": 215,
   "outputs": [],
   "source": [
    "submisie = pd.DataFrame({'id':ids, 'class':list(map(int, all_pred))})\n",
    "submisie.to_csv('submission_embeddings_100_epochs_fulltrain_batch256.csv', index=False)"
   ],
   "metadata": {
    "collapsed": false,
    "ExecuteTime": {
     "end_time": "2024-03-31T06:48:27.526376Z",
     "start_time": "2024-03-31T06:48:27.495146Z"
    }
   },
   "id": "d34112a4938b7666"
  },
  {
   "cell_type": "code",
   "execution_count": null,
   "outputs": [],
   "source": [
    "# GATAAAAAAAAAAAA"
   ],
   "metadata": {
    "collapsed": false
   },
   "id": "1c1e0651cbf4a999"
  },
  {
   "cell_type": "code",
   "execution_count": 178,
   "outputs": [],
   "source": [
    "def get_titles_tokens(df):\n",
    "    X_train = []\n",
    "    aux = df['title'].tolist()\n",
    "\n",
    "    tokenizer = AutoTokenizer.from_pretrained(\"dumitrescustefan/bert-base-romanian-cased-v1\")\n",
    "    added_toks = tokenizer.add_special_tokens({'additional_special_tokens': ['[STAR]', '[HTAG]', '[REP]', '[PROF]', '[EMOJI]']})\n",
    "\n",
    "    robert = AutoModel.from_pretrained(\"dumitrescustefan/bert-base-romanian-cased-v1\")\n",
    "    robert.resize_token_embeddings(len(tokenizer))\n",
    "\n",
    "    for title in tqdm(aux):\n",
    "        input_ids = torch.tensor(tokenizer.encode(title, add_special_tokens=True, max_length=32, padding='max_length', truncation=True, return_tensors=\"np\"))\n",
    "        outputs = robert(input_ids)\n",
    "        mean_pooling = torch.mean(outputs[0], dim = 1).squeeze(0).detach()\n",
    "        X_train.append(mean_pooling)\n",
    "\n",
    "    X_train = np.array(X_train)\n",
    "\n",
    "    return X_train\n",
    "\n",
    "def get_content_tokens(df):\n",
    "    X_train = []\n",
    "    y_train = []\n",
    "    aux = df['content'].tolist()\n",
    "\n",
    "    tokenizer = AutoTokenizer.from_pretrained(\"dumitrescustefan/bert-base-romanian-cased-v1\")\n",
    "    added_toks = tokenizer.add_special_tokens({'additional_special_tokens': ['[STAR]', '[HTAG]', '[REP]', '[PROF]', '[EMOJI]']})\n",
    "\n",
    "    robert = AutoModel.from_pretrained(\"dumitrescustefan/bert-base-romanian-cased-v1\")\n",
    "    robert.resize_token_embeddings(len(tokenizer))\n",
    "\n",
    "    for content in tqdm(aux):\n",
    "        if len(content) > 0:\n",
    "            input_ids = torch.tensor(tokenizer.encode(content, add_special_tokens=True, max_length=512, padding='max_length', truncation=True, return_tensors=\"np\"))\n",
    "            outputs = robert(input_ids)\n",
    "            mean_pooling = torch.mean(outputs[0], dim = 1).squeeze(0).detach()\n",
    "            X_train.append(mean_pooling)\n",
    "        else:\n",
    "            X_train.append([0 for _ in range(768)])\n",
    "\n",
    "    X_train = np.array(X_train)\n",
    "\n",
    "    return X_train\n",
    "\n",
    "\n",
    "def preprocess_dataset(df, name):\n",
    "    df = replace_unwanted_characters(df)\n",
    "    df = normalize_text(df)\n",
    "\n",
    "    text_embeddings = get_titles_tokens(df)\n",
    "    content_embeddings = get_content_tokens(df)\n",
    "\n",
    "    np.save(name+'title.npy', text_embeddings)\n",
    "    np.save(name+'content.npy', content_embeddings)"
   ],
   "metadata": {
    "collapsed": false,
    "ExecuteTime": {
     "end_time": "2024-03-31T02:15:55.261574600Z",
     "start_time": "2024-03-31T02:15:55.258571900Z"
    }
   },
   "id": "5b0e5cefde7074cf"
  },
  {
   "cell_type": "code",
   "execution_count": 180,
   "outputs": [
    {
     "name": "stderr",
     "output_type": "stream",
     "text": [
      "100%|██████████| 6111/6111 [03:28<00:00, 29.30it/s]\n",
      "100%|██████████| 6111/6111 [16:26<00:00,  6.20it/s]\n"
     ]
    }
   ],
   "source": [
    "test_df = pd.read_csv('first_test.csv')\n",
    "preprocess_dataset(test_df, 'first_test')"
   ],
   "metadata": {
    "collapsed": false,
    "ExecuteTime": {
     "end_time": "2024-03-31T02:50:12.394545400Z",
     "start_time": "2024-03-31T02:30:09.008170800Z"
    }
   },
   "id": "c26fbf0fb8291b60"
  },
  {
   "cell_type": "code",
   "execution_count": 181,
   "outputs": [
    {
     "name": "stderr",
     "output_type": "stream",
     "text": [
      "100%|██████████| 6114/6114 [04:06<00:00, 24.84it/s]\n",
      "100%|██████████| 6114/6114 [22:24<00:00,  4.55it/s]\n"
     ]
    }
   ],
   "source": [
    "test_df = pd.read_csv('sixth_test.csv')\n",
    "preprocess_dataset(test_df, 'sixth_test')"
   ],
   "metadata": {
    "collapsed": false,
    "ExecuteTime": {
     "end_time": "2024-03-31T03:16:54.116987100Z",
     "start_time": "2024-03-31T02:50:14.256505800Z"
    }
   },
   "id": "e764303c429dc8e4"
  },
  {
   "cell_type": "code",
   "execution_count": null,
   "outputs": [],
   "source": [],
   "metadata": {
    "collapsed": false
   },
   "id": "d96354e4c46bf081"
  }
 ],
 "metadata": {
  "kernelspec": {
   "display_name": "Python 3",
   "language": "python",
   "name": "python3"
  },
  "language_info": {
   "codemirror_mode": {
    "name": "ipython",
    "version": 2
   },
   "file_extension": ".py",
   "mimetype": "text/x-python",
   "name": "python",
   "nbconvert_exporter": "python",
   "pygments_lexer": "ipython2",
   "version": "2.7.6"
  }
 },
 "nbformat": 4,
 "nbformat_minor": 5
}
